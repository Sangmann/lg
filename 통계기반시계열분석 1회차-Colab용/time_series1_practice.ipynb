{
  "cells": [
    {
      "cell_type": "code",
      "execution_count": null,
      "id": "KJzCYjo0vJN6",
      "metadata": {
        "id": "KJzCYjo0vJN6"
      },
      "outputs": [],
      "source": [
        "pip install statsmodels"
      ]
    },
    {
      "cell_type": "code",
      "execution_count": null,
      "id": "1e2faf49",
      "metadata": {
        "id": "1e2faf49"
      },
      "outputs": [],
      "source": [
        "import numpy as np\n",
        "import pandas as pd\n",
        "import matplotlib.pyplot as plt\n",
        "from statsmodels.formula.api import ols\n",
        "import seaborn as sns\n",
        "import io"
      ]
    },
    {
      "cell_type": "markdown",
      "id": "2738f19d",
      "metadata": {
        "id": "2738f19d"
      },
      "source": [
        "# 실습 코드"
      ]
    },
    {
      "cell_type": "markdown",
      "id": "acaa1bd3",
      "metadata": {
        "id": "acaa1bd3"
      },
      "source": [
        "#### 빈 부분을 채워 Hotel_data로 Growth Curve Model을 만들어 주세요 (tiem-series1-3 참고)"
      ]
    },
    {
      "cell_type": "code",
      "execution_count": null,
      "id": "885562b2",
      "metadata": {
        "id": "885562b2"
      },
      "outputs": [],
      "source": [
        "hotel_data = pd.read_csv('https://raw.githubusercontent.com/Sangmann/lg/main/example-hotel-rooms.csv')\n",
        "hotel_data = hotel_data.iloc[:12]\n",
        "hotel_data.head(5)"
      ]
    },
    {
      "cell_type": "code",
      "execution_count": null,
      "id": "1dc51f3e",
      "metadata": {
        "id": "1dc51f3e"
      },
      "outputs": [],
      "source": [
        "hotel_data['log_y'] = \n",
        "hotel_data.head(5)"
      ]
    },
    {
      "cell_type": "code",
      "execution_count": null,
      "id": "34a1f3ab",
      "metadata": {
        "id": "34a1f3ab"
      },
      "outputs": [],
      "source": [
        "hotel_model = \n",
        "hotel_model.summary()"
      ]
    },
    {
      "cell_type": "code",
      "execution_count": null,
      "id": "722905b3",
      "metadata": {
        "id": "722905b3"
      },
      "outputs": [],
      "source": [
        "pred_hotel = hotel_model.predict(hotel_data['t'])\n",
        "pred_hotel = \n",
        "\n",
        "# plotting predicion value and real value\n",
        "fig = plt.figure(figsize=(12,8))\n",
        "plt.scatter(hotel_data['t'], hotel_data['y'], color='royalblue')\n",
        "plt.plot(hotel_data['t'], pred_hotel, color='darkorange')\n",
        "plt.title('Prediction of \"Growth Curve Models\" in hotel data', fontsize=12)\n",
        "plt.xlabel('Time', fontsize=12)\n",
        "plt.ylabel('Occupied Hotel Rooms', fontsize=12)\n",
        "plt.rc('xtick', labelsize=10)\n",
        "plt.rc('ytick', labelsize=10)\n",
        "plt.show()"
      ]
    },
    {
      "cell_type": "markdown",
      "id": "f3a74a56",
      "metadata": {
        "id": "f3a74a56"
      },
      "source": [
        "#### 빈 부분을 채워 Airline_data로 Binary variable Model을 만들어주세요 (tiem-series1-3 참고)"
      ]
    },
    {
      "cell_type": "code",
      "execution_count": null,
      "id": "a839e260",
      "metadata": {
        "id": "a839e260"
      },
      "outputs": [],
      "source": [
        "airline_data = pd.read_csv('https://raw.githubusercontent.com/Sangmann/lg/main/international-airline-passengers.csv')\n",
        "airline_data.rename(columns={airline_data.columns[1]: 'passengers'}, inplace=True)\n",
        "airline_data.dropna(inplace=True)\n",
        "airline_data['t'] = airline_data.index+1\n",
        "airline_data['m'] = airline_data['t'] % 12\n",
        "airline_data.head(5)"
      ]
    },
    {
      "cell_type": "code",
      "execution_count": null,
      "id": "3f5a876f",
      "metadata": {
        "id": "3f5a876f"
      },
      "outputs": [],
      "source": [
        "airline_dummy = \n",
        "airline_dummy.rename(columns = lambda x: \"m\" + str(x), inplace=True)\n",
        "airline_dummy"
      ]
    },
    {
      "cell_type": "code",
      "execution_count": null,
      "id": "b2f3d0e9",
      "metadata": {
        "id": "b2f3d0e9"
      },
      "outputs": [],
      "source": [
        "binary_airline_data = pd.concat([airline_data, airline_dummy], axis=1)\n",
        "binary_airline_data['log_passengers'] = \n",
        "binary_airline_data"
      ]
    },
    {
      "cell_type": "code",
      "execution_count": null,
      "id": "e9c0599e",
      "metadata": {
        "id": "e9c0599e"
      },
      "outputs": [],
      "source": [
        "binary_airline_model = \n",
        "binary_airline_model.summary()"
      ]
    },
    {
      "cell_type": "code",
      "execution_count": null,
      "id": "dd3b8636",
      "metadata": {
        "id": "dd3b8636"
      },
      "outputs": [],
      "source": [
        "pred_columns = binary_airline_data.drop(['passengers', 'Month', 'm'], axis=1).columns\n",
        "pred_binary_airline = binary_airline_model.predict(binary_airline_data[pred_columns])\n",
        "pred_binary_airline = \n",
        "\n",
        "# plotting predicion value and real value\n",
        "fig = plt.figure(figsize=(12,8))\n",
        "plt.scatter(binary_airline_data['t'], binary_airline_data['passengers'], color='royalblue')\n",
        "plt.plot(binary_airline_data['t'], pred_binary_airline, color='darkorange')\n",
        "plt.title('Prediction of \"Binary varaible models\" in airline data', fontsize=12)\n",
        "plt.xlabel('Time', fontsize=12)\n",
        "plt.ylabel('Passengers', fontsize=12)\n",
        "plt.rc('xtick', labelsize=10)\n",
        "plt.rc('ytick', labelsize=10)\n",
        "plt.show()"
      ]
    },
    {
      "cell_type": "markdown",
      "id": "b16aff12",
      "metadata": {
        "id": "b16aff12"
      },
      "source": [
        "#### 빈 부분을 채워 Airline_data로 Trigonometric Model (2)을 만들어주세요 (tiem-series1-3 참고)"
      ]
    },
    {
      "cell_type": "code",
      "execution_count": null,
      "id": "d0c92187",
      "metadata": {
        "id": "d0c92187"
      },
      "outputs": [],
      "source": [
        "# make variables in trigonometric model \n",
        "# if standard is month, time_stand=12, if standard is day, time_stand=365 \n",
        "time_stand = 12\n",
        "airline_data['sintwo'] = \n",
        "airline_data['costwo'] = \n",
        "airline_data['sinfour'] = \n",
        "airline_data['cosfour'] = \n",
        "airline_data['log_passengers'] = \n",
        "\n",
        "airline_data.head(5)"
      ]
    },
    {
      "cell_type": "code",
      "execution_count": null,
      "id": "f7c93e50",
      "metadata": {
        "id": "f7c93e50"
      },
      "outputs": [],
      "source": [
        "tri_airline_model_2 = \n",
        "tri_airline_model_2.summary()"
      ]
    },
    {
      "cell_type": "code",
      "execution_count": null,
      "id": "cbb7c372",
      "metadata": {
        "id": "cbb7c372"
      },
      "outputs": [],
      "source": [
        "pred_columns_tri_2 = airline_data.drop(['m', 'Month', 'passengers'], axis=1).columns\n",
        "pred_tri_2_airline = tri_airline_model_2.predict(airline_data[pred_columns_tri_2])\n",
        "pred_tri_2_airline = \n",
        "\n",
        "# plotting predicion value and real value\n",
        "fig = plt.figure(figsize=(12,8))\n",
        "plt.scatter(airline_data['t'], airline_data['passengers'], color='royalblue')\n",
        "plt.plot(airline_data['t'], pred_tri_2_airline, color='darkorange')\n",
        "plt.title('Prediction of \"Trigonometric models (2)\" in airline data', fontsize=12)\n",
        "plt.xlabel('Time', fontsize=12)\n",
        "plt.ylabel('Passengers', fontsize=12)\n",
        "plt.rc('xtick', labelsize=10)\n",
        "plt.rc('ytick', labelsize=10)\n",
        "plt.show()"
      ]
    },
    {
      "cell_type": "markdown",
      "id": "040f5a4a",
      "metadata": {
        "id": "040f5a4a"
      },
      "source": [
        "#### Airline_data로 binary model, Trigonometric Model (2)을 비교해주세요 (tiem-series1-3 참고)"
      ]
    },
    {
      "cell_type": "code",
      "execution_count": null,
      "id": "72075da3",
      "metadata": {
        "id": "72075da3"
      },
      "outputs": [],
      "source": [
        "# plotting predicion value and real value about \n",
        "fig = plt.figure(figsize=(12,8))\n",
        "plt.scatter(airline_data['t'], airline_data['passengers'], color='royalblue')\n",
        "\n",
        "\n",
        "plt.title('Prediction of various models in airline data', fontsize=12)\n",
        "plt.xlabel('Time', fontsize=12)\n",
        "plt.ylabel('Passengers', fontsize=12)\n",
        "plt.rc('xtick', labelsize=10)\n",
        "plt.rc('ytick', labelsize=10)\n",
        "plt.show()"
      ]
    },
    {
      "cell_type": "code",
      "execution_count": null,
      "id": "203a5e5d",
      "metadata": {
        "id": "203a5e5d"
      },
      "outputs": [],
      "source": [
        "def MAD(y_true, y_pred):\n",
        "    return np.mean(np.abs(y_true - y_pred))\n",
        "\n",
        "def MSE(y_true, y_pred):\n",
        "    return np.mean(np.square(y_true - y_pred))"
      ]
    },
    {
      "cell_type": "code",
      "execution_count": null,
      "id": "34c88470",
      "metadata": {
        "id": "34c88470"
      },
      "outputs": [],
      "source": [
        "# caluate a MAD(MAE)\n",
        "mad_bin = \n",
        "print(f'MAD of binary variables models = {mad_bin:.2f}')\n",
        "mad_tri_2 = \n",
        "print(f'MAD of trigonometric models (2)  = {mad_tri_2:.2f}')"
      ]
    },
    {
      "cell_type": "code",
      "execution_count": null,
      "id": "26e39b41",
      "metadata": {
        "id": "26e39b41"
      },
      "outputs": [],
      "source": [
        "# caluate a MSE\n",
        "mse_bin = \n",
        "print(f'MSE of binary variables models = {mse_bin:.2f}')\n",
        "mse_tri_2 = \n",
        "print(f'MSE of trigonometric models (2)  = {mse_tri_2:.2f}')"
      ]
    }
  ],
  "metadata": {
    "colab": {
      "collapsed_sections": [],
      "name": "time-series1-practice-results.ipynb",
      "provenance": []
    },
    "kernelspec": {
      "display_name": "Python 3 (ipykernel)",
      "language": "python",
      "name": "python3"
    },
    "language_info": {
      "codemirror_mode": {
        "name": "ipython",
        "version": 3
      },
      "file_extension": ".py",
      "mimetype": "text/x-python",
      "name": "python",
      "nbconvert_exporter": "python",
      "pygments_lexer": "ipython3",
      "version": "3.8.12"
    }
  },
  "nbformat": 4,
  "nbformat_minor": 5
}