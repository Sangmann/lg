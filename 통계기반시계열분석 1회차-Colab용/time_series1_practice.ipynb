{
 "cells": [
  {
   "cell_type": "code",
   "execution_count": null,
   "id": "KJzCYjo0vJN6",
   "metadata": {
    "colab": {
     "base_uri": "https://localhost:8080/"
    },
    "id": "KJzCYjo0vJN6",
    "outputId": "4fec7aa6-a21c-44d4-8718-df05f9a670e7"
   },
   "outputs": [],
   "source": [
    "pip install statsmodels"
   ]
  },
  {
   "cell_type": "code",
   "execution_count": null,
   "id": "1e2faf49",
   "metadata": {
    "id": "1e2faf49"
   },
   "outputs": [],
   "source": [
    "import numpy as np\n",
    "import pandas as pd\n",
    "import matplotlib.pyplot as plt\n",
    "from statsmodels.formula.api import ols\n",
    "import seaborn as sns\n",
    "import io"
   ]
  },
  {
   "cell_type": "code",
   "execution_count": null,
   "id": "YMYO7_3vvS77",
   "metadata": {
    "colab": {
     "base_uri": "https://localhost:8080/",
     "height": 362,
     "resources": {
      "http://localhost:8080/nbextensions/google.colab/files.js": {
       "data": "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",
       "headers": [
        [
         "content-type",
         "application/javascript"
        ]
       ],
       "ok": true,
       "status": 200,
       "status_text": ""
      }
     }
    },
    "id": "YMYO7_3vvS77",
    "outputId": "3824b736-7c2b-4576-e6fa-f3a02c337e16"
   },
   "outputs": [],
   "source": [
    "from google.colab import files\n",
    "myfile = files.upload()"
   ]
  },
  {
   "cell_type": "markdown",
   "id": "2738f19d",
   "metadata": {
    "id": "2738f19d"
   },
   "source": [
    "# 실습 코드"
   ]
  },
  {
   "cell_type": "markdown",
   "id": "acaa1bd3",
   "metadata": {
    "id": "acaa1bd3"
   },
   "source": [
    "#### 빈 부분을 채워 Hotel_data로 Growth Curve Model을 만들어 주세요 (tiem-series1-3 참고)"
   ]
  },
  {
   "cell_type": "code",
   "execution_count": null,
   "id": "885562b2",
   "metadata": {
    "colab": {
     "base_uri": "https://localhost:8080/",
     "height": 206
    },
    "id": "885562b2",
    "outputId": "feafb3ee-7519-431a-b574-962713bcfcb9"
   },
   "outputs": [],
   "source": [
    "hotel_data = pd.read_csv(io.BytesIO(myfile['example-hotel-rooms.csv']))\n",
    "hotel_data = hotel_data.iloc[:12]\n",
    "hotel_data.head(5)"
   ]
  },
  {
   "cell_type": "code",
   "execution_count": null,
   "id": "1dc51f3e",
   "metadata": {
    "colab": {
     "base_uri": "https://localhost:8080/",
     "height": 206
    },
    "id": "1dc51f3e",
    "outputId": "66c4571e-9514-4f2d-cba8-f91c05c0a2fc"
   },
   "outputs": [],
   "source": [
    "hotel_data['log_y'] = \n",
    "hotel_data.head(5)"
   ]
  },
  {
   "cell_type": "code",
   "execution_count": null,
   "id": "34a1f3ab",
   "metadata": {
    "colab": {
     "base_uri": "https://localhost:8080/",
     "height": 488
    },
    "id": "34a1f3ab",
    "outputId": "8027ac20-987d-47cf-9bd6-a27c6d3e1cb2"
   },
   "outputs": [],
   "source": [
    "hotel_model = \n",
    "hotel_model.summary()"
   ]
  },
  {
   "cell_type": "code",
   "execution_count": null,
   "id": "722905b3",
   "metadata": {
    "colab": {
     "base_uri": "https://localhost:8080/",
     "height": 516
    },
    "id": "722905b3",
    "outputId": "bf3d308b-835f-4d1d-aba4-547ae7c5f351"
   },
   "outputs": [],
   "source": [
    "pred_hotel = hotel_model.predict(hotel_data['t'])\n",
    "pred_hotel = \n",
    "\n",
    "# plotting predicion value and real value\n",
    "fig = plt.figure(figsize=(12,8))\n",
    "plt.scatter(hotel_data['t'], hotel_data['y'], color='royalblue')\n",
    "plt.plot(hotel_data['t'], pred_hotel, color='darkorange')\n",
    "plt.title('Prediction of \"Growth Curve Models\" in hotel data', fontsize=12)\n",
    "plt.xlabel('Time', fontsize=12)\n",
    "plt.ylabel('Occupied Hotel Rooms', fontsize=12)\n",
    "plt.rc('xtick', labelsize=10)\n",
    "plt.rc('ytick', labelsize=10)\n",
    "plt.show()"
   ]
  },
  {
   "cell_type": "markdown",
   "id": "f3a74a56",
   "metadata": {
    "id": "f3a74a56"
   },
   "source": [
    "#### 빈 부분을 채워 Airline_data로 Binary variable Model을 만들어주세요 (tiem-series1-3 참고)"
   ]
  },
  {
   "cell_type": "code",
   "execution_count": null,
   "id": "a839e260",
   "metadata": {
    "colab": {
     "base_uri": "https://localhost:8080/",
     "height": 206
    },
    "id": "a839e260",
    "outputId": "f8b2a1b1-596c-40c5-e060-079f085932a1"
   },
   "outputs": [],
   "source": [
    "airline_data = pd.read_csv(io.BytesIO(myfile['international-airline-passengers.csv']))\n",
    "airline_data.rename(columns={airline_data.columns[1]: 'passengers'}, inplace=True)\n",
    "airline_data.dropna(inplace=True)\n",
    "airline_data['t'] = airline_data.index+1\n",
    "airline_data['m'] = airline_data['t'] % 12\n",
    "airline_data.head(5)"
   ]
  },
  {
   "cell_type": "code",
   "execution_count": null,
   "id": "3f5a876f",
   "metadata": {
    "colab": {
     "base_uri": "https://localhost:8080/",
     "height": 424
    },
    "id": "3f5a876f",
    "outputId": "d50ad40c-4edd-44aa-d178-c1c471a14d63"
   },
   "outputs": [],
   "source": [
    "airline_dummy = \n",
    "airline_dummy.rename(columns = lambda x: \"m\" + str(x), inplace=True)\n",
    "airline_dummy"
   ]
  },
  {
   "cell_type": "code",
   "execution_count": null,
   "id": "b2f3d0e9",
   "metadata": {
    "colab": {
     "base_uri": "https://localhost:8080/",
     "height": 424
    },
    "id": "b2f3d0e9",
    "outputId": "cf5aedc0-5502-4b85-e3b1-5e1b958e2713"
   },
   "outputs": [],
   "source": [
    "binary_airline_data = pd.concat([airline_data, airline_dummy], axis=1)\n",
    "binary_airline_data['log_passengers'] = \n",
    "binary_airline_data"
   ]
  },
  {
   "cell_type": "code",
   "execution_count": null,
   "id": "e9c0599e",
   "metadata": {
    "colab": {
     "base_uri": "https://localhost:8080/",
     "height": 721
    },
    "id": "e9c0599e",
    "outputId": "e6342858-2ba5-45b1-fd4a-ef5e18d17a56"
   },
   "outputs": [],
   "source": [
    "binary_airline_model = \n",
    "binary_airline_model.summary()"
   ]
  },
  {
   "cell_type": "code",
   "execution_count": null,
   "id": "dd3b8636",
   "metadata": {
    "colab": {
     "base_uri": "https://localhost:8080/",
     "height": 516
    },
    "id": "dd3b8636",
    "outputId": "8ee4aec9-2290-4961-f4db-84c2dea0764b"
   },
   "outputs": [],
   "source": [
    "pred_columns = binary_airline_data.drop(['passengers', 'Month', 'm'], axis=1).columns\n",
    "pred_binary_airline = binary_airline_model.predict(binary_airline_data[pred_columns])\n",
    "pred_binary_airline = \n",
    "\n",
    "# plotting predicion value and real value\n",
    "fig = plt.figure(figsize=(12,8))\n",
    "plt.scatter(binary_airline_data['t'], binary_airline_data['passengers'], color='royalblue')\n",
    "plt.plot(binary_airline_data['t'], pred_binary_airline, color='darkorange')\n",
    "plt.title('Prediction of \"Binary varaible models\" in airline data', fontsize=12)\n",
    "plt.xlabel('Time', fontsize=12)\n",
    "plt.ylabel('Passengers', fontsize=12)\n",
    "plt.rc('xtick', labelsize=10)\n",
    "plt.rc('ytick', labelsize=10)\n",
    "plt.show()"
   ]
  },
  {
   "cell_type": "markdown",
   "id": "b16aff12",
   "metadata": {
    "id": "b16aff12"
   },
   "source": [
    "#### 빈 부분을 채워 Airline_data로 Trigonometric Model (2)을 만들어주세요 (tiem-series1-3 참고)"
   ]
  },
  {
   "cell_type": "code",
   "execution_count": null,
   "id": "d0c92187",
   "metadata": {
    "colab": {
     "base_uri": "https://localhost:8080/",
     "height": 206
    },
    "id": "d0c92187",
    "outputId": "a800dce7-d0e9-4619-8f41-b4ac54dcf4a7"
   },
   "outputs": [],
   "source": [
    "# make variables in trigonometric model \n",
    "# if standard is month, time_stand=12, if standard is day, time_stand=365 \n",
    "time_stand = 12\n",
    "airline_data['sintwo'] = \n",
    "airline_data['costwo'] = \n",
    "airline_data['sinfour'] = \n",
    "airline_data['cosfour'] = \n",
    "airline_data['log_passengers'] = \n",
    "\n",
    "airline_data.head(5)"
   ]
  },
  {
   "cell_type": "code",
   "execution_count": null,
   "id": "f7c93e50",
   "metadata": {
    "colab": {
     "base_uri": "https://localhost:8080/",
     "height": 537
    },
    "id": "f7c93e50",
    "outputId": "1743e1d6-8281-4795-aedd-99841cd7fb85"
   },
   "outputs": [],
   "source": [
    "tri_airline_model_2 = \n",
    "tri_airline_model_2.summary()"
   ]
  },
  {
   "cell_type": "code",
   "execution_count": null,
   "id": "cbb7c372",
   "metadata": {
    "colab": {
     "base_uri": "https://localhost:8080/",
     "height": 516
    },
    "id": "cbb7c372",
    "outputId": "9edb7237-44fd-49fe-90a7-7371927f2d23"
   },
   "outputs": [],
   "source": [
    "pred_columns_tri_2 = airline_data.drop(['m', 'Month', 'passengers'], axis=1).columns\n",
    "pred_tri_2_airline = tri_airline_model_2.predict(airline_data[pred_columns_tri_2])\n",
    "pred_tri_2_airline = \n",
    "\n",
    "# plotting predicion value and real value\n",
    "fig = plt.figure(figsize=(12,8))\n",
    "plt.scatter(airline_data['t'], airline_data['passengers'], color='royalblue')\n",
    "plt.plot(airline_data['t'], pred_tri_2_airline, color='darkorange')\n",
    "plt.title('Prediction of \"Trigonometric models (2)\" in airline data', fontsize=12)\n",
    "plt.xlabel('Time', fontsize=12)\n",
    "plt.ylabel('Passengers', fontsize=12)\n",
    "plt.rc('xtick', labelsize=10)\n",
    "plt.rc('ytick', labelsize=10)\n",
    "plt.show()"
   ]
  },
  {
   "cell_type": "markdown",
   "id": "040f5a4a",
   "metadata": {
    "id": "040f5a4a"
   },
   "source": [
    "#### Airline_data로 binary model, Trigonometric Model (2)을 비교해주세요 (tiem-series1-3 참고)"
   ]
  },
  {
   "cell_type": "code",
   "execution_count": null,
   "id": "72075da3",
   "metadata": {
    "colab": {
     "base_uri": "https://localhost:8080/",
     "height": 516
    },
    "id": "72075da3",
    "outputId": "8287d4cb-1b70-47cd-ea9d-ce179a1123a3"
   },
   "outputs": [],
   "source": [
    "# plotting predicion value and real value about \n",
    "fig = plt.figure(figsize=(12,8))\n",
    "plt.scatter(airline_data['t'], airline_data['passengers'], color='royalblue')\n",
    "\n",
    "\n",
    "plt.title('Prediction of various models in airline data', fontsize=12)\n",
    "plt.xlabel('Time', fontsize=12)\n",
    "plt.ylabel('Passengers', fontsize=12)\n",
    "plt.rc('xtick', labelsize=10)\n",
    "plt.rc('ytick', labelsize=10)\n",
    "plt.show()"
   ]
  },
  {
   "cell_type": "code",
   "execution_count": null,
   "id": "203a5e5d",
   "metadata": {
    "id": "203a5e5d"
   },
   "outputs": [],
   "source": [
    "def MAD(y_true, y_pred):\n",
    "    return np.mean(np.abs(y_true - y_pred))\n",
    "\n",
    "def MSE(y_true, y_pred):\n",
    "    return np.mean(np.square(y_true - y_pred))"
   ]
  },
  {
   "cell_type": "code",
   "execution_count": null,
   "id": "34c88470",
   "metadata": {
    "colab": {
     "base_uri": "https://localhost:8080/"
    },
    "id": "34c88470",
    "outputId": "b21c286b-38b8-48e0-ee34-a9562caf4691"
   },
   "outputs": [],
   "source": [
    "# caluate a MAD(MAE)\n",
    "mad_bin = \n",
    "print(f'MAD of binary variables models = {mad_bin:.2f}')\n",
    "mad_tri_2 = \n",
    "print(f'MAD of trigonometric models (2)  = {mad_tri_2:.2f}')"
   ]
  },
  {
   "cell_type": "code",
   "execution_count": null,
   "id": "26e39b41",
   "metadata": {
    "colab": {
     "base_uri": "https://localhost:8080/"
    },
    "id": "26e39b41",
    "outputId": "fd76f076-74be-42f4-95dd-12b74f397abf"
   },
   "outputs": [],
   "source": [
    "# caluate a MSE\n",
    "mse_bin = \n",
    "print(f'MSE of binary variables models = {mse_bin:.2f}')\n",
    "mse_tri_2 = \n",
    "print(f'MSE of trigonometric models (2)  = {mse_tri_2:.2f}')"
   ]
  }
 ],
 "metadata": {
  "colab": {
   "collapsed_sections": [],
   "name": "time-series1-practice-results.ipynb",
   "provenance": []
  },
  "kernelspec": {
   "display_name": "Python 3 (ipykernel)",
   "language": "python",
   "name": "python3"
  },
  "language_info": {
   "codemirror_mode": {
    "name": "ipython",
    "version": 3
   },
   "file_extension": ".py",
   "mimetype": "text/x-python",
   "name": "python",
   "nbconvert_exporter": "python",
   "pygments_lexer": "ipython3",
   "version": "3.8.12"
  }
 },
 "nbformat": 4,
 "nbformat_minor": 5
}
