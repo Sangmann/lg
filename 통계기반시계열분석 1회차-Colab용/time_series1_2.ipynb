{
 "cells": [
  {
   "cell_type": "markdown",
   "metadata": {
    "id": "II3Gc5LSrtIC"
   },
   "source": [
    "# Correlation Plot"
   ]
  },
  {
   "cell_type": "code",
   "execution_count": null,
   "metadata": {
    "execution": {
     "iopub.execute_input": "2022-01-10T03:48:58.415387Z",
     "iopub.status.busy": "2022-01-10T03:48:58.414963Z",
     "iopub.status.idle": "2022-01-10T03:48:59.603208Z",
     "shell.execute_reply": "2022-01-10T03:48:59.602207Z",
     "shell.execute_reply.started": "2022-01-10T03:48:58.415336Z"
    },
    "id": "4dp2mlYortIE"
   },
   "outputs": [],
   "source": [
    "import numpy as np\n",
    "import pandas as pd\n",
    "import seaborn as sns\n",
    "import matplotlib.pyplot as plt\n",
    "import io"
   ]
  },
  {
   "cell_type": "code",
   "execution_count": null,
   "metadata": {
    "colab": {
     "base_uri": "https://localhost:8080/",
     "height": 362,
     "resources": {
      "http://localhost:8080/nbextensions/google.colab/files.js": {
       "data": "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",
       "headers": [
        [
         "content-type",
         "application/javascript"
        ]
       ],
       "ok": true,
       "status": 200,
       "status_text": ""
      }
     }
    },
    "id": "wpQfTS7er2g4",
    "outputId": "2dc80fb2-b223-45d5-fc91-617795682886"
   },
   "outputs": [],
   "source": [
    "from google.colab import files\n",
    "myfile = files.upload()"
   ]
  },
  {
   "cell_type": "code",
   "execution_count": null,
   "metadata": {
    "colab": {
     "base_uri": "https://localhost:8080/",
     "height": 238
    },
    "execution": {
     "iopub.execute_input": "2022-01-10T03:48:59.605777Z",
     "iopub.status.busy": "2022-01-10T03:48:59.605420Z",
     "iopub.status.idle": "2022-01-10T03:48:59.621056Z",
     "shell.execute_reply": "2022-01-10T03:48:59.619890Z",
     "shell.execute_reply.started": "2022-01-10T03:48:59.605730Z"
    },
    "id": "HcNaQpFsrtIF",
    "outputId": "4715dbfc-1992-4ff3-d9ba-912dbbc15f55"
   },
   "outputs": [],
   "source": [
    "example_data = pd.read_csv(io.BytesIO(myfile['example-correlation.csv']))\n",
    "example_data"
   ]
  },
  {
   "cell_type": "code",
   "execution_count": null,
   "metadata": {
    "colab": {
     "base_uri": "https://localhost:8080/",
     "height": 112
    },
    "execution": {
     "iopub.execute_input": "2022-01-10T03:48:59.623566Z",
     "iopub.status.busy": "2022-01-10T03:48:59.623150Z",
     "iopub.status.idle": "2022-01-10T03:48:59.645275Z",
     "shell.execute_reply": "2022-01-10T03:48:59.644539Z",
     "shell.execute_reply.started": "2022-01-10T03:48:59.623533Z"
    },
    "id": "M4jfSZ24rtIG",
    "outputId": "cff4e26b-50ea-4843-92ec-718fcbe2ea81"
   },
   "outputs": [],
   "source": [
    "exam_corr = example_data.corr()\n",
    "exam_corr"
   ]
  },
  {
   "cell_type": "code",
   "execution_count": null,
   "metadata": {
    "colab": {
     "base_uri": "https://localhost:8080/",
     "height": 287
    },
    "execution": {
     "iopub.execute_input": "2022-01-10T03:48:59.646689Z",
     "iopub.status.busy": "2022-01-10T03:48:59.646354Z",
     "iopub.status.idle": "2022-01-10T03:48:59.944678Z",
     "shell.execute_reply": "2022-01-10T03:48:59.943696Z",
     "shell.execute_reply.started": "2022-01-10T03:48:59.646659Z"
    },
    "id": "23MJcBHwrtIG",
    "outputId": "526be53a-fd2c-4224-9cc1-052f2896b952"
   },
   "outputs": [],
   "source": [
    "sns.heatmap(exam_corr, annot=True)"
   ]
  },
  {
   "cell_type": "markdown",
   "metadata": {
    "id": "EdXzYAHortIG"
   },
   "source": [
    "# Variables in Heart Failure Prediction data\n",
    "#### - age: age\n",
    "#### - anaemia: Decrease of red blood cells or hemoglobin (boolean)\n",
    "#### - creatinine_phosphokinase: evel of the CPK enzyme in the blood (mcg/L)\n",
    "#### - diabetes: If the patient has diabetes (boolean)\n",
    "#### - ejection_fraction: Percentage of blood leaving the heart at each contraction (percentage)\n",
    "#### - high_blood_pressure: If the patient has hypertension (boolean)\n",
    "#### - platelets: Platelets in the blood (kiloplatelets/mL)\n",
    "#### - serum_creatinine: Level of serum creatinine in the blood (mg/dL)\n",
    "#### - serum_sodium: Level of serum sodium in the blood (mEq/L)"
   ]
  },
  {
   "cell_type": "code",
   "execution_count": null,
   "metadata": {
    "colab": {
     "base_uri": "https://localhost:8080/",
     "height": 206
    },
    "execution": {
     "iopub.execute_input": "2022-01-10T03:48:59.945937Z",
     "iopub.status.busy": "2022-01-10T03:48:59.945710Z",
     "iopub.status.idle": "2022-01-10T03:48:59.971087Z",
     "shell.execute_reply": "2022-01-10T03:48:59.970445Z",
     "shell.execute_reply.started": "2022-01-10T03:48:59.945909Z"
    },
    "id": "Eq4G4v3XrtIH",
    "outputId": "d7ef68a9-2bf9-4fc4-fe77-2c9e65f9b54e"
   },
   "outputs": [],
   "source": [
    "heart_data = pd.read_csv(io.BytesIO(myfile['heart_failure_clinical_records_dataset.csv']))\n",
    "heart_data.head(5)"
   ]
  },
  {
   "cell_type": "code",
   "execution_count": null,
   "metadata": {
    "colab": {
     "base_uri": "https://localhost:8080/",
     "height": 607
    },
    "execution": {
     "iopub.execute_input": "2022-01-10T03:48:59.973008Z",
     "iopub.status.busy": "2022-01-10T03:48:59.972736Z",
     "iopub.status.idle": "2022-01-10T03:49:01.110018Z",
     "shell.execute_reply": "2022-01-10T03:49:01.109003Z",
     "shell.execute_reply.started": "2022-01-10T03:48:59.972978Z"
    },
    "id": "v06G5r4_rtIH",
    "outputId": "5b08a376-ad13-461a-ef18-b44fefbf0e52"
   },
   "outputs": [],
   "source": [
    "plt.rcParams['figure.figsize'] = (12,8)\n",
    "sns.heatmap(heart_data.corr(), annot=True, cmap='YlGnBu')\n",
    "plt.show()"
   ]
  },
  {
   "cell_type": "code",
   "execution_count": null,
   "metadata": {
    "colab": {
     "base_uri": "https://localhost:8080/",
     "height": 1000
    },
    "execution": {
     "iopub.execute_input": "2022-01-10T03:49:01.111925Z",
     "iopub.status.busy": "2022-01-10T03:49:01.111221Z",
     "iopub.status.idle": "2022-01-10T03:49:36.436120Z",
     "shell.execute_reply": "2022-01-10T03:49:36.434853Z",
     "shell.execute_reply.started": "2022-01-10T03:49:01.111885Z"
    },
    "id": "wd2NyUE1rtII",
    "outputId": "c0f08cd8-d5d3-48b9-d94f-f47030e43f06"
   },
   "outputs": [],
   "source": [
    "plt.rcParams['figure.figsize'] = (12,8)\n",
    "sns.pairplot(heart_data)\n",
    "plt.show()"
   ]
  },
  {
   "cell_type": "markdown",
   "metadata": {
    "id": "YHrF4vO5rtII"
   },
   "source": [
    "# Auto Correlation plot"
   ]
  },
  {
   "cell_type": "code",
   "execution_count": null,
   "metadata": {
    "execution": {
     "iopub.execute_input": "2022-01-10T03:49:36.438125Z",
     "iopub.status.busy": "2022-01-10T03:49:36.437773Z",
     "iopub.status.idle": "2022-01-10T03:49:36.444689Z",
     "shell.execute_reply": "2022-01-10T03:49:36.443848Z",
     "shell.execute_reply.started": "2022-01-10T03:49:36.438087Z"
    },
    "id": "9CA-BvItrtIJ"
   },
   "outputs": [],
   "source": [
    "# lag=1\n",
    "example_data['x1_1'] = example_data['x1'].shift(1)"
   ]
  },
  {
   "cell_type": "code",
   "execution_count": null,
   "metadata": {
    "colab": {
     "base_uri": "https://localhost:8080/",
     "height": 206
    },
    "execution": {
     "iopub.execute_input": "2022-01-10T03:49:36.447628Z",
     "iopub.status.busy": "2022-01-10T03:49:36.447339Z",
     "iopub.status.idle": "2022-01-10T03:49:36.467000Z",
     "shell.execute_reply": "2022-01-10T03:49:36.466161Z",
     "shell.execute_reply.started": "2022-01-10T03:49:36.447595Z"
    },
    "id": "1EwTDsFHrtIJ",
    "outputId": "d9d811d3-dca1-4ad6-d1e6-77497621dda7"
   },
   "outputs": [],
   "source": [
    "example_data.head(5)"
   ]
  },
  {
   "cell_type": "code",
   "execution_count": null,
   "metadata": {
    "colab": {
     "base_uri": "https://localhost:8080/",
     "height": 518
    },
    "execution": {
     "iopub.execute_input": "2022-01-10T03:49:36.468924Z",
     "iopub.status.busy": "2022-01-10T03:49:36.468157Z",
     "iopub.status.idle": "2022-01-10T03:49:36.722610Z",
     "shell.execute_reply": "2022-01-10T03:49:36.721216Z",
     "shell.execute_reply.started": "2022-01-10T03:49:36.468885Z"
    },
    "id": "NkBVoK75rtIJ",
    "outputId": "c0e71409-ba19-4a27-a196-824ee306f437"
   },
   "outputs": [],
   "source": [
    "plt.title('Scatter plot x1 & x1_1', fontsize=14)\n",
    "plt.scatter(example_data['x1'], example_data['x1_1'])\n",
    "plt.xlabel('x1', fontsize=14)\n",
    "plt.ylabel('x1_1', fontsize=14)\n",
    "plt.show()"
   ]
  },
  {
   "cell_type": "code",
   "execution_count": null,
   "metadata": {
    "colab": {
     "base_uri": "https://localhost:8080/",
     "height": 206
    },
    "execution": {
     "iopub.execute_input": "2022-01-10T03:49:36.725028Z",
     "iopub.status.busy": "2022-01-10T03:49:36.724137Z",
     "iopub.status.idle": "2022-01-10T03:49:36.743074Z",
     "shell.execute_reply": "2022-01-10T03:49:36.741572Z",
     "shell.execute_reply.started": "2022-01-10T03:49:36.724990Z"
    },
    "id": "R149bTWertIK",
    "outputId": "ddf7975c-f1a2-4cb1-be9d-3faa62f9dc10"
   },
   "outputs": [],
   "source": [
    "# lag=2\n",
    "example_data['x1_2'] = example_data['x1'].shift(2)\n",
    "example_data.head(5)"
   ]
  },
  {
   "cell_type": "code",
   "execution_count": null,
   "metadata": {
    "colab": {
     "base_uri": "https://localhost:8080/",
     "height": 518
    },
    "execution": {
     "iopub.execute_input": "2022-01-10T03:49:36.745032Z",
     "iopub.status.busy": "2022-01-10T03:49:36.744747Z",
     "iopub.status.idle": "2022-01-10T03:49:37.012834Z",
     "shell.execute_reply": "2022-01-10T03:49:37.011823Z",
     "shell.execute_reply.started": "2022-01-10T03:49:36.744990Z"
    },
    "id": "w6LhPK4grtIK",
    "outputId": "73469370-da54-4099-e17c-26ea4431fa90"
   },
   "outputs": [],
   "source": [
    "plt.title('Scatter plot x1 & x1_2', fontsize=14)\n",
    "plt.scatter(example_data['x1'], example_data['x1_2'])\n",
    "plt.xlabel('x1', fontsize=14)\n",
    "plt.ylabel('x1_2', fontsize=14)\n",
    "plt.show()"
   ]
  },
  {
   "cell_type": "markdown",
   "metadata": {
    "id": "9mIkYg1ArtIK"
   },
   "source": [
    "# Dubin-Waston Test"
   ]
  },
  {
   "cell_type": "code",
   "execution_count": null,
   "metadata": {
    "colab": {
     "base_uri": "https://localhost:8080/"
    },
    "id": "Gj5yHSTos9Wv",
    "outputId": "adcad304-6ffc-487b-a867-eeb81ba7c0d6"
   },
   "outputs": [],
   "source": [
    "pip install statsmodels"
   ]
  },
  {
   "cell_type": "code",
   "execution_count": null,
   "metadata": {
    "colab": {
     "base_uri": "https://localhost:8080/",
     "height": 452
    },
    "execution": {
     "iopub.execute_input": "2022-01-10T03:49:37.014631Z",
     "iopub.status.busy": "2022-01-10T03:49:37.014348Z",
     "iopub.status.idle": "2022-01-10T03:49:37.312900Z",
     "shell.execute_reply": "2022-01-10T03:49:37.311987Z",
     "shell.execute_reply.started": "2022-01-10T03:49:37.014597Z"
    },
    "id": "tmkDOJrErtIK",
    "outputId": "5d393cb9-2737-4b30-99c4-dde2c6af303b"
   },
   "outputs": [],
   "source": [
    "from statsmodels.formula.api import ols\n",
    "import seaborn as sns\n",
    "linear_data = pd.read_csv(io.BytesIO(myfile['linear-trend-data.csv']))\n",
    "linear_model = ols('Sales ~ Time', data=linear_data).fit()\n",
    "linear_model.summary()"
   ]
  },
  {
   "cell_type": "code",
   "execution_count": null,
   "metadata": {
    "colab": {
     "base_uri": "https://localhost:8080/",
     "height": 206
    },
    "execution": {
     "iopub.execute_input": "2022-01-10T03:49:37.314613Z",
     "iopub.status.busy": "2022-01-10T03:49:37.314290Z",
     "iopub.status.idle": "2022-01-10T03:49:37.332104Z",
     "shell.execute_reply": "2022-01-10T03:49:37.330937Z",
     "shell.execute_reply.started": "2022-01-10T03:49:37.314578Z"
    },
    "id": "a2g-Pe7DrtIL",
    "outputId": "f04ec60f-a6b7-43bd-9a79-8bcc597f9521"
   },
   "outputs": [],
   "source": [
    "linear_predict = linear_model.predict(linear_data['Time'])\n",
    "linear_data['residual'] = linear_data['Sales'] - linear_predict\n",
    "linear_data.head(5)"
   ]
  },
  {
   "cell_type": "code",
   "execution_count": null,
   "metadata": {
    "colab": {
     "base_uri": "https://localhost:8080/",
     "height": 206
    },
    "execution": {
     "iopub.execute_input": "2022-01-10T03:49:37.334078Z",
     "iopub.status.busy": "2022-01-10T03:49:37.333706Z",
     "iopub.status.idle": "2022-01-10T03:49:37.354563Z",
     "shell.execute_reply": "2022-01-10T03:49:37.353552Z",
     "shell.execute_reply.started": "2022-01-10T03:49:37.334031Z"
    },
    "id": "ek-Ity4hrtIL",
    "outputId": "e19215c9-1252-43c3-ce3a-68624d704233"
   },
   "outputs": [],
   "source": [
    "linear_data['residual_1'] = linear_data['residual'].shift(1)\n",
    "linear_data.head(5)"
   ]
  },
  {
   "cell_type": "code",
   "execution_count": null,
   "metadata": {
    "colab": {
     "base_uri": "https://localhost:8080/",
     "height": 206
    },
    "execution": {
     "iopub.execute_input": "2022-01-10T03:49:37.356795Z",
     "iopub.status.busy": "2022-01-10T03:49:37.356143Z",
     "iopub.status.idle": "2022-01-10T03:49:37.378293Z",
     "shell.execute_reply": "2022-01-10T03:49:37.377136Z",
     "shell.execute_reply.started": "2022-01-10T03:49:37.356754Z"
    },
    "id": "KJF2mRa-rtIL",
    "outputId": "52306e8a-da2b-4fd7-c3ed-8dc6d755de58"
   },
   "outputs": [],
   "source": [
    "linear_data = linear_data.fillna(0)\n",
    "linear_data.head(5)"
   ]
  },
  {
   "cell_type": "code",
   "execution_count": null,
   "metadata": {
    "execution": {
     "iopub.execute_input": "2022-01-10T03:49:37.380419Z",
     "iopub.status.busy": "2022-01-10T03:49:37.379867Z",
     "iopub.status.idle": "2022-01-10T03:49:37.393239Z",
     "shell.execute_reply": "2022-01-10T03:49:37.392166Z",
     "shell.execute_reply.started": "2022-01-10T03:49:37.380368Z"
    },
    "id": "WZlKyksUrtIL"
   },
   "outputs": [],
   "source": [
    "def dubin_waston(resid, resid_1):\n",
    "    return sum((resid-resid_1)**2)/sum(resid**2)"
   ]
  },
  {
   "cell_type": "code",
   "execution_count": null,
   "metadata": {
    "colab": {
     "base_uri": "https://localhost:8080/"
    },
    "execution": {
     "iopub.execute_input": "2022-01-10T03:49:37.395035Z",
     "iopub.status.busy": "2022-01-10T03:49:37.394506Z",
     "iopub.status.idle": "2022-01-10T03:49:37.410878Z",
     "shell.execute_reply": "2022-01-10T03:49:37.409971Z",
     "shell.execute_reply.started": "2022-01-10T03:49:37.394985Z"
    },
    "id": "HF4XGVjvrtIL",
    "outputId": "d5a456e3-da44-4192-8a17-933f05b06636"
   },
   "outputs": [],
   "source": [
    "dw_value = dubin_waston(linear_data['residual'], linear_data['residual_1'])\n",
    "print(f'Dubin watson statistic is {dw_value:.3f}')"
   ]
  },
  {
   "cell_type": "markdown",
   "metadata": {
    "execution": {
     "iopub.execute_input": "2022-01-10T02:10:11.822674Z",
     "iopub.status.busy": "2022-01-10T02:10:11.8221Z",
     "iopub.status.idle": "2022-01-10T02:10:11.826361Z",
     "shell.execute_reply": "2022-01-10T02:10:11.825566Z",
     "shell.execute_reply.started": "2022-01-10T02:10:11.822637Z"
    },
    "id": "YzooBg0UrtIL"
   },
   "source": [
    "# Transformation time-series data"
   ]
  },
  {
   "cell_type": "code",
   "execution_count": null,
   "metadata": {
    "execution": {
     "iopub.execute_input": "2022-01-10T03:49:37.412730Z",
     "iopub.status.busy": "2022-01-10T03:49:37.412133Z",
     "iopub.status.idle": "2022-01-10T03:49:37.432699Z",
     "shell.execute_reply": "2022-01-10T03:49:37.431346Z",
     "shell.execute_reply.started": "2022-01-10T03:49:37.412674Z"
    },
    "id": "QHH9ZMfMrtIM"
   },
   "outputs": [],
   "source": [
    "airline_data = pd.read_csv(io.BytesIO(myfile['international-airline-passengers.csv']))\n",
    "airline_data.rename(columns={airline_data.columns[1]: 'passengers'}, inplace=True)"
   ]
  },
  {
   "cell_type": "code",
   "execution_count": null,
   "metadata": {
    "colab": {
     "base_uri": "https://localhost:8080/",
     "height": 516
    },
    "execution": {
     "iopub.execute_input": "2022-01-10T03:49:37.435731Z",
     "iopub.status.busy": "2022-01-10T03:49:37.434741Z",
     "iopub.status.idle": "2022-01-10T03:49:37.685936Z",
     "shell.execute_reply": "2022-01-10T03:49:37.685123Z",
     "shell.execute_reply.started": "2022-01-10T03:49:37.435673Z"
    },
    "id": "0d2yXolNrtIM",
    "outputId": "18b22500-9956-46b7-bb97-d4dbc9ccbc99"
   },
   "outputs": [],
   "source": [
    "fig = plt.figure(figsize=(12,8))\n",
    "plt.plot(airline_data['passengers'])\n",
    "plt.title('International airline passengers', fontsize=12)\n",
    "plt.xlabel('Month', fontsize=12)\n",
    "plt.ylabel('Passengers', fontsize=12)\n",
    "\n",
    "plt.show()"
   ]
  },
  {
   "cell_type": "code",
   "execution_count": null,
   "metadata": {
    "colab": {
     "base_uri": "https://localhost:8080/",
     "height": 516
    },
    "execution": {
     "iopub.execute_input": "2022-01-10T03:49:37.688154Z",
     "iopub.status.busy": "2022-01-10T03:49:37.687615Z",
     "iopub.status.idle": "2022-01-10T03:49:37.941910Z",
     "shell.execute_reply": "2022-01-10T03:49:37.941274Z",
     "shell.execute_reply.started": "2022-01-10T03:49:37.688105Z"
    },
    "id": "KLQxdG_brtIM",
    "outputId": "75abee33-37a8-4b12-9c26-254b85888152"
   },
   "outputs": [],
   "source": [
    "airline_data['squared_passengers'] = np.sqrt(airline_data['passengers'])\n",
    "\n",
    "fig = plt.figure(figsize=(12,8))\n",
    "plt.plot(airline_data['squared_passengers'])\n",
    "plt.title('International airline passengers', fontsize=12)\n",
    "plt.xlabel('Month', fontsize=12)\n",
    "plt.ylabel('Passengers', fontsize=12)\n",
    "\n",
    "plt.show()"
   ]
  },
  {
   "cell_type": "code",
   "execution_count": null,
   "metadata": {
    "colab": {
     "base_uri": "https://localhost:8080/",
     "height": 516
    },
    "execution": {
     "iopub.execute_input": "2022-01-10T03:49:37.943177Z",
     "iopub.status.busy": "2022-01-10T03:49:37.942866Z",
     "iopub.status.idle": "2022-01-10T03:49:38.202861Z",
     "shell.execute_reply": "2022-01-10T03:49:38.202205Z",
     "shell.execute_reply.started": "2022-01-10T03:49:37.943149Z"
    },
    "id": "tGkQlAvrrtIM",
    "outputId": "a8fd8a0b-6614-46f9-a67c-87786239d8f3"
   },
   "outputs": [],
   "source": [
    "airline_data['log_passengers'] = np.log(airline_data['passengers'])\n",
    "\n",
    "fig = plt.figure(figsize=(12,8))\n",
    "plt.plot(airline_data['log_passengers'])\n",
    "plt.title('International airline passengers', fontsize=12)\n",
    "plt.xlabel('Month', fontsize=12)\n",
    "plt.ylabel('Passengers', fontsize=12)\n",
    "\n",
    "plt.show()"
   ]
  },
  {
   "cell_type": "code",
   "execution_count": null,
   "metadata": {
    "colab": {
     "base_uri": "https://localhost:8080/",
     "height": 516
    },
    "execution": {
     "iopub.execute_input": "2022-01-10T03:49:38.204664Z",
     "iopub.status.busy": "2022-01-10T03:49:38.203918Z",
     "iopub.status.idle": "2022-01-10T03:49:38.417289Z",
     "shell.execute_reply": "2022-01-10T03:49:38.416421Z",
     "shell.execute_reply.started": "2022-01-10T03:49:38.204626Z"
    },
    "id": "M82lzu7BrtIM",
    "outputId": "58a8ceaa-1704-4c7a-c187-15b433c87563"
   },
   "outputs": [],
   "source": [
    "airline_data['2log_passengers'] = np.log(airline_data['log_passengers'])\n",
    "\n",
    "fig = plt.figure(figsize=(12,8))\n",
    "plt.plot(airline_data['2log_passengers'])\n",
    "plt.title('International airline passengers', fontsize=12)\n",
    "plt.xlabel('Month', fontsize=12)\n",
    "plt.ylabel('Passengers', fontsize=12)\n",
    "\n",
    "plt.show()"
   ]
  }
 ],
 "metadata": {
  "colab": {
   "name": "time-series1-2.ipynb",
   "provenance": []
  },
  "kernelspec": {
   "display_name": "Python 3 (ipykernel)",
   "language": "python",
   "name": "python3"
  },
  "language_info": {
   "codemirror_mode": {
    "name": "ipython",
    "version": 3
   },
   "file_extension": ".py",
   "mimetype": "text/x-python",
   "name": "python",
   "nbconvert_exporter": "python",
   "pygments_lexer": "ipython3",
   "version": "3.8.12"
  }
 },
 "nbformat": 4,
 "nbformat_minor": 1
}
