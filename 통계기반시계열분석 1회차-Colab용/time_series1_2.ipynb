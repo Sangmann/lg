{
  "cells": [
    {
      "cell_type": "markdown",
      "metadata": {
        "id": "II3Gc5LSrtIC"
      },
      "source": [
        "# Correlation Plot"
      ]
    },
    {
      "cell_type": "code",
      "execution_count": null,
      "metadata": {
        "execution": {
          "iopub.execute_input": "2022-01-10T03:48:58.415387Z",
          "iopub.status.busy": "2022-01-10T03:48:58.414963Z",
          "iopub.status.idle": "2022-01-10T03:48:59.603208Z",
          "shell.execute_reply": "2022-01-10T03:48:59.602207Z",
          "shell.execute_reply.started": "2022-01-10T03:48:58.415336Z"
        },
        "id": "4dp2mlYortIE"
      },
      "outputs": [],
      "source": [
        "import numpy as np\n",
        "import pandas as pd\n",
        "import seaborn as sns\n",
        "import matplotlib.pyplot as plt\n",
        "import io"
      ]
    },
    {
      "cell_type": "code",
      "execution_count": null,
      "metadata": {
        "id": "wpQfTS7er2g4"
      },
      "outputs": [],
      "source": [
        "from google.colab import files\n",
        "myfile = files.upload()"
      ]
    },
    {
      "cell_type": "code",
      "execution_count": null,
      "metadata": {
        "execution": {
          "iopub.execute_input": "2022-01-10T03:48:59.605777Z",
          "iopub.status.busy": "2022-01-10T03:48:59.605420Z",
          "iopub.status.idle": "2022-01-10T03:48:59.621056Z",
          "shell.execute_reply": "2022-01-10T03:48:59.619890Z",
          "shell.execute_reply.started": "2022-01-10T03:48:59.605730Z"
        },
        "id": "HcNaQpFsrtIF"
      },
      "outputs": [],
      "source": [
        "example_data = pd.read_csv('https://raw.githubusercontent.com/Sangmann/lg/main/example-correlation.csv')\n",
        "example_data"
      ]
    },
    {
      "cell_type": "code",
      "execution_count": null,
      "metadata": {
        "execution": {
          "iopub.execute_input": "2022-01-10T03:48:59.623566Z",
          "iopub.status.busy": "2022-01-10T03:48:59.623150Z",
          "iopub.status.idle": "2022-01-10T03:48:59.645275Z",
          "shell.execute_reply": "2022-01-10T03:48:59.644539Z",
          "shell.execute_reply.started": "2022-01-10T03:48:59.623533Z"
        },
        "id": "M4jfSZ24rtIG"
      },
      "outputs": [],
      "source": [
        "exam_corr = example_data.corr()\n",
        "exam_corr"
      ]
    },
    {
      "cell_type": "code",
      "execution_count": null,
      "metadata": {
        "execution": {
          "iopub.execute_input": "2022-01-10T03:48:59.646689Z",
          "iopub.status.busy": "2022-01-10T03:48:59.646354Z",
          "iopub.status.idle": "2022-01-10T03:48:59.944678Z",
          "shell.execute_reply": "2022-01-10T03:48:59.943696Z",
          "shell.execute_reply.started": "2022-01-10T03:48:59.646659Z"
        },
        "id": "23MJcBHwrtIG"
      },
      "outputs": [],
      "source": [
        "sns.heatmap(exam_corr, annot=True)"
      ]
    },
    {
      "cell_type": "markdown",
      "metadata": {
        "id": "EdXzYAHortIG"
      },
      "source": [
        "# Variables in Heart Failure Prediction data\n",
        "#### - age: age\n",
        "#### - anaemia: Decrease of red blood cells or hemoglobin (boolean)\n",
        "#### - creatinine_phosphokinase: evel of the CPK enzyme in the blood (mcg/L)\n",
        "#### - diabetes: If the patient has diabetes (boolean)\n",
        "#### - ejection_fraction: Percentage of blood leaving the heart at each contraction (percentage)\n",
        "#### - high_blood_pressure: If the patient has hypertension (boolean)\n",
        "#### - platelets: Platelets in the blood (kiloplatelets/mL)\n",
        "#### - serum_creatinine: Level of serum creatinine in the blood (mg/dL)\n",
        "#### - serum_sodium: Level of serum sodium in the blood (mEq/L)"
      ]
    },
    {
      "cell_type": "code",
      "execution_count": null,
      "metadata": {
        "execution": {
          "iopub.execute_input": "2022-01-10T03:48:59.945937Z",
          "iopub.status.busy": "2022-01-10T03:48:59.945710Z",
          "iopub.status.idle": "2022-01-10T03:48:59.971087Z",
          "shell.execute_reply": "2022-01-10T03:48:59.970445Z",
          "shell.execute_reply.started": "2022-01-10T03:48:59.945909Z"
        },
        "id": "Eq4G4v3XrtIH"
      },
      "outputs": [],
      "source": [
        "heart_data = pd.read_csv('https://raw.githubusercontent.com/Sangmann/lg/main/heart_failure_clinical_records_dataset.csv')\n",
        "heart_data.head(5)"
      ]
    },
    {
      "cell_type": "code",
      "execution_count": null,
      "metadata": {
        "execution": {
          "iopub.execute_input": "2022-01-10T03:48:59.973008Z",
          "iopub.status.busy": "2022-01-10T03:48:59.972736Z",
          "iopub.status.idle": "2022-01-10T03:49:01.110018Z",
          "shell.execute_reply": "2022-01-10T03:49:01.109003Z",
          "shell.execute_reply.started": "2022-01-10T03:48:59.972978Z"
        },
        "id": "v06G5r4_rtIH"
      },
      "outputs": [],
      "source": [
        "plt.rcParams['figure.figsize'] = (12,8)\n",
        "sns.heatmap(heart_data.corr(), annot=True, cmap='YlGnBu')\n",
        "plt.show()"
      ]
    },
    {
      "cell_type": "code",
      "execution_count": null,
      "metadata": {
        "execution": {
          "iopub.execute_input": "2022-01-10T03:49:01.111925Z",
          "iopub.status.busy": "2022-01-10T03:49:01.111221Z",
          "iopub.status.idle": "2022-01-10T03:49:36.436120Z",
          "shell.execute_reply": "2022-01-10T03:49:36.434853Z",
          "shell.execute_reply.started": "2022-01-10T03:49:01.111885Z"
        },
        "id": "wd2NyUE1rtII"
      },
      "outputs": [],
      "source": [
        "plt.rcParams['figure.figsize'] = (12,8)\n",
        "sns.pairplot(heart_data)\n",
        "plt.show()"
      ]
    },
    {
      "cell_type": "markdown",
      "metadata": {
        "id": "YHrF4vO5rtII"
      },
      "source": [
        "# Auto Correlation plot"
      ]
    },
    {
      "cell_type": "code",
      "execution_count": null,
      "metadata": {
        "execution": {
          "iopub.execute_input": "2022-01-10T03:49:36.438125Z",
          "iopub.status.busy": "2022-01-10T03:49:36.437773Z",
          "iopub.status.idle": "2022-01-10T03:49:36.444689Z",
          "shell.execute_reply": "2022-01-10T03:49:36.443848Z",
          "shell.execute_reply.started": "2022-01-10T03:49:36.438087Z"
        },
        "id": "9CA-BvItrtIJ"
      },
      "outputs": [],
      "source": [
        "# lag=1\n",
        "example_data['x1_1'] = example_data['x1'].shift(1)"
      ]
    },
    {
      "cell_type": "code",
      "execution_count": null,
      "metadata": {
        "execution": {
          "iopub.execute_input": "2022-01-10T03:49:36.447628Z",
          "iopub.status.busy": "2022-01-10T03:49:36.447339Z",
          "iopub.status.idle": "2022-01-10T03:49:36.467000Z",
          "shell.execute_reply": "2022-01-10T03:49:36.466161Z",
          "shell.execute_reply.started": "2022-01-10T03:49:36.447595Z"
        },
        "id": "1EwTDsFHrtIJ"
      },
      "outputs": [],
      "source": [
        "example_data.head(5)"
      ]
    },
    {
      "cell_type": "code",
      "execution_count": null,
      "metadata": {
        "execution": {
          "iopub.execute_input": "2022-01-10T03:49:36.468924Z",
          "iopub.status.busy": "2022-01-10T03:49:36.468157Z",
          "iopub.status.idle": "2022-01-10T03:49:36.722610Z",
          "shell.execute_reply": "2022-01-10T03:49:36.721216Z",
          "shell.execute_reply.started": "2022-01-10T03:49:36.468885Z"
        },
        "id": "NkBVoK75rtIJ"
      },
      "outputs": [],
      "source": [
        "plt.title('Scatter plot x1 & x1_1', fontsize=14)\n",
        "plt.scatter(example_data['x1'], example_data['x1_1'])\n",
        "plt.xlabel('x1', fontsize=14)\n",
        "plt.ylabel('x1_1', fontsize=14)\n",
        "plt.show()"
      ]
    },
    {
      "cell_type": "code",
      "execution_count": null,
      "metadata": {
        "execution": {
          "iopub.execute_input": "2022-01-10T03:49:36.725028Z",
          "iopub.status.busy": "2022-01-10T03:49:36.724137Z",
          "iopub.status.idle": "2022-01-10T03:49:36.743074Z",
          "shell.execute_reply": "2022-01-10T03:49:36.741572Z",
          "shell.execute_reply.started": "2022-01-10T03:49:36.724990Z"
        },
        "id": "R149bTWertIK"
      },
      "outputs": [],
      "source": [
        "# lag=2\n",
        "example_data['x1_2'] = example_data['x1'].shift(2)\n",
        "example_data.head(5)"
      ]
    },
    {
      "cell_type": "code",
      "execution_count": null,
      "metadata": {
        "execution": {
          "iopub.execute_input": "2022-01-10T03:49:36.745032Z",
          "iopub.status.busy": "2022-01-10T03:49:36.744747Z",
          "iopub.status.idle": "2022-01-10T03:49:37.012834Z",
          "shell.execute_reply": "2022-01-10T03:49:37.011823Z",
          "shell.execute_reply.started": "2022-01-10T03:49:36.744990Z"
        },
        "id": "w6LhPK4grtIK"
      },
      "outputs": [],
      "source": [
        "plt.title('Scatter plot x1 & x1_2', fontsize=14)\n",
        "plt.scatter(example_data['x1'], example_data['x1_2'])\n",
        "plt.xlabel('x1', fontsize=14)\n",
        "plt.ylabel('x1_2', fontsize=14)\n",
        "plt.show()"
      ]
    },
    {
      "cell_type": "markdown",
      "metadata": {
        "id": "9mIkYg1ArtIK"
      },
      "source": [
        "# Dubin-Waston Test"
      ]
    },
    {
      "cell_type": "code",
      "execution_count": null,
      "metadata": {
        "id": "Gj5yHSTos9Wv"
      },
      "outputs": [],
      "source": [
        "pip install statsmodels"
      ]
    },
    {
      "cell_type": "code",
      "execution_count": null,
      "metadata": {
        "execution": {
          "iopub.execute_input": "2022-01-10T03:49:37.014631Z",
          "iopub.status.busy": "2022-01-10T03:49:37.014348Z",
          "iopub.status.idle": "2022-01-10T03:49:37.312900Z",
          "shell.execute_reply": "2022-01-10T03:49:37.311987Z",
          "shell.execute_reply.started": "2022-01-10T03:49:37.014597Z"
        },
        "id": "tmkDOJrErtIK"
      },
      "outputs": [],
      "source": [
        "from statsmodels.formula.api import ols\n",
        "import seaborn as sns\n",
        "linear_data = pd.read_csv('https://raw.githubusercontent.com/Sangmann/lg/main/linear-trend-data.csv')\n",
        "linear_model = ols('Sales ~ Time', data=linear_data).fit()\n",
        "linear_model.summary()"
      ]
    },
    {
      "cell_type": "code",
      "execution_count": null,
      "metadata": {
        "execution": {
          "iopub.execute_input": "2022-01-10T03:49:37.314613Z",
          "iopub.status.busy": "2022-01-10T03:49:37.314290Z",
          "iopub.status.idle": "2022-01-10T03:49:37.332104Z",
          "shell.execute_reply": "2022-01-10T03:49:37.330937Z",
          "shell.execute_reply.started": "2022-01-10T03:49:37.314578Z"
        },
        "id": "a2g-Pe7DrtIL"
      },
      "outputs": [],
      "source": [
        "linear_predict = linear_model.predict(linear_data['Time'])\n",
        "linear_data['residual'] = linear_data['Sales'] - linear_predict\n",
        "linear_data.head(5)"
      ]
    },
    {
      "cell_type": "code",
      "execution_count": null,
      "metadata": {
        "execution": {
          "iopub.execute_input": "2022-01-10T03:49:37.334078Z",
          "iopub.status.busy": "2022-01-10T03:49:37.333706Z",
          "iopub.status.idle": "2022-01-10T03:49:37.354563Z",
          "shell.execute_reply": "2022-01-10T03:49:37.353552Z",
          "shell.execute_reply.started": "2022-01-10T03:49:37.334031Z"
        },
        "id": "ek-Ity4hrtIL"
      },
      "outputs": [],
      "source": [
        "linear_data['residual_1'] = linear_data['residual'].shift(1)\n",
        "linear_data.head(5)"
      ]
    },
    {
      "cell_type": "code",
      "execution_count": null,
      "metadata": {
        "execution": {
          "iopub.execute_input": "2022-01-10T03:49:37.356795Z",
          "iopub.status.busy": "2022-01-10T03:49:37.356143Z",
          "iopub.status.idle": "2022-01-10T03:49:37.378293Z",
          "shell.execute_reply": "2022-01-10T03:49:37.377136Z",
          "shell.execute_reply.started": "2022-01-10T03:49:37.356754Z"
        },
        "id": "KJF2mRa-rtIL"
      },
      "outputs": [],
      "source": [
        "linear_data = linear_data.fillna(0)\n",
        "linear_data.head(5)"
      ]
    },
    {
      "cell_type": "code",
      "execution_count": null,
      "metadata": {
        "execution": {
          "iopub.execute_input": "2022-01-10T03:49:37.380419Z",
          "iopub.status.busy": "2022-01-10T03:49:37.379867Z",
          "iopub.status.idle": "2022-01-10T03:49:37.393239Z",
          "shell.execute_reply": "2022-01-10T03:49:37.392166Z",
          "shell.execute_reply.started": "2022-01-10T03:49:37.380368Z"
        },
        "id": "WZlKyksUrtIL"
      },
      "outputs": [],
      "source": [
        "def dubin_waston(resid, resid_1):\n",
        "    return sum((resid-resid_1)**2)/sum(resid**2)"
      ]
    },
    {
      "cell_type": "code",
      "execution_count": null,
      "metadata": {
        "execution": {
          "iopub.execute_input": "2022-01-10T03:49:37.395035Z",
          "iopub.status.busy": "2022-01-10T03:49:37.394506Z",
          "iopub.status.idle": "2022-01-10T03:49:37.410878Z",
          "shell.execute_reply": "2022-01-10T03:49:37.409971Z",
          "shell.execute_reply.started": "2022-01-10T03:49:37.394985Z"
        },
        "id": "HF4XGVjvrtIL"
      },
      "outputs": [],
      "source": [
        "dw_value = dubin_waston(linear_data['residual'], linear_data['residual_1'])\n",
        "print(f'Dubin watson statistic is {dw_value:.3f}')"
      ]
    },
    {
      "cell_type": "markdown",
      "metadata": {
        "execution": {
          "iopub.execute_input": "2022-01-10T02:10:11.822674Z",
          "iopub.status.busy": "2022-01-10T02:10:11.8221Z",
          "iopub.status.idle": "2022-01-10T02:10:11.826361Z",
          "shell.execute_reply": "2022-01-10T02:10:11.825566Z",
          "shell.execute_reply.started": "2022-01-10T02:10:11.822637Z"
        },
        "id": "YzooBg0UrtIL"
      },
      "source": [
        "# Transformation time-series data"
      ]
    },
    {
      "cell_type": "code",
      "execution_count": null,
      "metadata": {
        "execution": {
          "iopub.execute_input": "2022-01-10T03:49:37.412730Z",
          "iopub.status.busy": "2022-01-10T03:49:37.412133Z",
          "iopub.status.idle": "2022-01-10T03:49:37.432699Z",
          "shell.execute_reply": "2022-01-10T03:49:37.431346Z",
          "shell.execute_reply.started": "2022-01-10T03:49:37.412674Z"
        },
        "id": "QHH9ZMfMrtIM"
      },
      "outputs": [],
      "source": [
        "airline_data = pd.read_csv('https://raw.githubusercontent.com/Sangmann/lg/main/international-airline-passengers.csv')\n",
        "airline_data.rename(columns={airline_data.columns[1]: 'passengers'}, inplace=True)"
      ]
    },
    {
      "cell_type": "code",
      "execution_count": null,
      "metadata": {
        "execution": {
          "iopub.execute_input": "2022-01-10T03:49:37.435731Z",
          "iopub.status.busy": "2022-01-10T03:49:37.434741Z",
          "iopub.status.idle": "2022-01-10T03:49:37.685936Z",
          "shell.execute_reply": "2022-01-10T03:49:37.685123Z",
          "shell.execute_reply.started": "2022-01-10T03:49:37.435673Z"
        },
        "id": "0d2yXolNrtIM"
      },
      "outputs": [],
      "source": [
        "fig = plt.figure(figsize=(12,8))\n",
        "plt.plot(airline_data['passengers'])\n",
        "plt.title('International airline passengers', fontsize=12)\n",
        "plt.xlabel('Month', fontsize=12)\n",
        "plt.ylabel('Passengers', fontsize=12)\n",
        "\n",
        "plt.show()"
      ]
    },
    {
      "cell_type": "code",
      "execution_count": null,
      "metadata": {
        "execution": {
          "iopub.execute_input": "2022-01-10T03:49:37.688154Z",
          "iopub.status.busy": "2022-01-10T03:49:37.687615Z",
          "iopub.status.idle": "2022-01-10T03:49:37.941910Z",
          "shell.execute_reply": "2022-01-10T03:49:37.941274Z",
          "shell.execute_reply.started": "2022-01-10T03:49:37.688105Z"
        },
        "id": "KLQxdG_brtIM"
      },
      "outputs": [],
      "source": [
        "airline_data['squared_passengers'] = np.sqrt(airline_data['passengers'])\n",
        "\n",
        "fig = plt.figure(figsize=(12,8))\n",
        "plt.plot(airline_data['squared_passengers'])\n",
        "plt.title('International airline passengers', fontsize=12)\n",
        "plt.xlabel('Month', fontsize=12)\n",
        "plt.ylabel('Passengers', fontsize=12)\n",
        "\n",
        "plt.show()"
      ]
    },
    {
      "cell_type": "code",
      "execution_count": null,
      "metadata": {
        "execution": {
          "iopub.execute_input": "2022-01-10T03:49:37.943177Z",
          "iopub.status.busy": "2022-01-10T03:49:37.942866Z",
          "iopub.status.idle": "2022-01-10T03:49:38.202861Z",
          "shell.execute_reply": "2022-01-10T03:49:38.202205Z",
          "shell.execute_reply.started": "2022-01-10T03:49:37.943149Z"
        },
        "id": "tGkQlAvrrtIM"
      },
      "outputs": [],
      "source": [
        "airline_data['log_passengers'] = np.log(airline_data['passengers'])\n",
        "\n",
        "fig = plt.figure(figsize=(12,8))\n",
        "plt.plot(airline_data['log_passengers'])\n",
        "plt.title('International airline passengers', fontsize=12)\n",
        "plt.xlabel('Month', fontsize=12)\n",
        "plt.ylabel('Passengers', fontsize=12)\n",
        "\n",
        "plt.show()"
      ]
    },
    {
      "cell_type": "code",
      "execution_count": null,
      "metadata": {
        "execution": {
          "iopub.execute_input": "2022-01-10T03:49:38.204664Z",
          "iopub.status.busy": "2022-01-10T03:49:38.203918Z",
          "iopub.status.idle": "2022-01-10T03:49:38.417289Z",
          "shell.execute_reply": "2022-01-10T03:49:38.416421Z",
          "shell.execute_reply.started": "2022-01-10T03:49:38.204626Z"
        },
        "id": "M82lzu7BrtIM"
      },
      "outputs": [],
      "source": [
        "airline_data['2log_passengers'] = np.log(airline_data['log_passengers'])\n",
        "\n",
        "fig = plt.figure(figsize=(12,8))\n",
        "plt.plot(airline_data['2log_passengers'])\n",
        "plt.title('International airline passengers', fontsize=12)\n",
        "plt.xlabel('Month', fontsize=12)\n",
        "plt.ylabel('Passengers', fontsize=12)\n",
        "\n",
        "plt.show()"
      ]
    }
  ],
  "metadata": {
    "colab": {
      "name": "time-series1-2.ipynb",
      "provenance": []
    },
    "kernelspec": {
      "display_name": "Python 3 (ipykernel)",
      "language": "python",
      "name": "python3"
    },
    "language_info": {
      "codemirror_mode": {
        "name": "ipython",
        "version": 3
      },
      "file_extension": ".py",
      "mimetype": "text/x-python",
      "name": "python",
      "nbconvert_exporter": "python",
      "pygments_lexer": "ipython3",
      "version": "3.8.12"
    }
  },
  "nbformat": 4,
  "nbformat_minor": 0
}