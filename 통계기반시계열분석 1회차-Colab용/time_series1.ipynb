{
 "cells": [
  {
   "cell_type": "markdown",
   "metadata": {
    "id": "0_u65KxRnSVL"
   },
   "source": [
    "# Introduction of time series dataset"
   ]
  },
  {
   "cell_type": "code",
   "execution_count": null,
   "metadata": {
    "execution": {
     "iopub.execute_input": "2022-01-10T03:46:56.585164Z",
     "iopub.status.busy": "2022-01-10T03:46:56.584298Z",
     "iopub.status.idle": "2022-01-10T03:46:56.589988Z",
     "shell.execute_reply": "2022-01-10T03:46:56.589075Z",
     "shell.execute_reply.started": "2022-01-10T03:46:56.585134Z"
    },
    "id": "mrpYqMfknSVN"
   },
   "outputs": [],
   "source": [
    "import numpy as np\n",
    "import pandas as pd\n",
    "import matplotlib.pyplot as plt\n",
    "import io"
   ]
  },
  {
   "cell_type": "code",
   "execution_count": null,
   "metadata": {
    "colab": {
     "base_uri": "https://localhost:8080/"
    },
    "id": "bR3Qa1qQnSVO",
    "outputId": "e4c6f65c-2744-457a-c32a-5bf1b4da5f3e"
   },
   "outputs": [],
   "source": [
    "# check a current path\n",
    "import os\n",
    "print(os.getcwd())"
   ]
  },
  {
   "cell_type": "code",
   "execution_count": null,
   "metadata": {
    "colab": {
     "base_uri": "https://localhost:8080/",
     "height": 362,
     "resources": {
      "http://localhost:8080/nbextensions/google.colab/files.js": {
       "data": "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",
       "headers": [
        [
         "content-type",
         "application/javascript"
        ]
       ],
       "ok": true,
       "status": 200,
       "status_text": ""
      }
     }
    },
    "id": "FuuPJN5eoBKF",
    "outputId": "d18c3553-0aa5-425d-b3e5-a79aea679865"
   },
   "outputs": [],
   "source": [
    "from google.colab import files\n",
    "myfile = files.upload()"
   ]
  },
  {
   "cell_type": "code",
   "execution_count": null,
   "metadata": {
    "execution": {
     "iopub.execute_input": "2022-01-10T03:46:56.591448Z",
     "iopub.status.busy": "2022-01-10T03:46:56.591255Z",
     "iopub.status.idle": "2022-01-10T03:46:56.61626Z",
     "shell.execute_reply": "2022-01-10T03:46:56.615314Z",
     "shell.execute_reply.started": "2022-01-10T03:46:56.591422Z"
    },
    "id": "xDHUEZ8anSVP"
   },
   "outputs": [],
   "source": [
    "# read a data\n",
    "airline_data = pd.read_csv(io.BytesIO(myfile['international-airline-passengers.csv']))"
   ]
  },
  {
   "cell_type": "code",
   "execution_count": null,
   "metadata": {
    "colab": {
     "base_uri": "https://localhost:8080/",
     "height": 206
    },
    "execution": {
     "iopub.execute_input": "2022-01-10T03:46:56.618891Z",
     "iopub.status.busy": "2022-01-10T03:46:56.618546Z",
     "iopub.status.idle": "2022-01-10T03:46:56.636035Z",
     "shell.execute_reply": "2022-01-10T03:46:56.635168Z",
     "shell.execute_reply.started": "2022-01-10T03:46:56.618855Z"
    },
    "id": "QrM61A0lnSVP",
    "outputId": "204b22e1-0bbd-44de-b5f6-f231ebf6de5b"
   },
   "outputs": [],
   "source": [
    "airline_data.head(5)"
   ]
  },
  {
   "cell_type": "code",
   "execution_count": null,
   "metadata": {
    "colab": {
     "base_uri": "https://localhost:8080/"
    },
    "execution": {
     "iopub.execute_input": "2022-01-10T03:46:56.637613Z",
     "iopub.status.busy": "2022-01-10T03:46:56.637396Z",
     "iopub.status.idle": "2022-01-10T03:46:56.643235Z",
     "shell.execute_reply": "2022-01-10T03:46:56.642608Z",
     "shell.execute_reply.started": "2022-01-10T03:46:56.637583Z"
    },
    "id": "RoO5K5UxnSVP",
    "outputId": "8075c7ff-0f4c-4fd5-bd04-cbb01cf444dc"
   },
   "outputs": [],
   "source": [
    "# check column names\n",
    "airline_data.columns"
   ]
  },
  {
   "cell_type": "code",
   "execution_count": null,
   "metadata": {
    "colab": {
     "base_uri": "https://localhost:8080/",
     "height": 35
    },
    "execution": {
     "iopub.execute_input": "2022-01-10T03:46:56.644862Z",
     "iopub.status.busy": "2022-01-10T03:46:56.644169Z",
     "iopub.status.idle": "2022-01-10T03:46:56.657879Z",
     "shell.execute_reply": "2022-01-10T03:46:56.656557Z",
     "shell.execute_reply.started": "2022-01-10T03:46:56.644833Z"
    },
    "id": "59P4UGbYnSVQ",
    "outputId": "8e92bc31-02ac-43fd-f53a-97917d73dfa4"
   },
   "outputs": [],
   "source": [
    "airline_data.columns[1]"
   ]
  },
  {
   "cell_type": "code",
   "execution_count": null,
   "metadata": {
    "colab": {
     "base_uri": "https://localhost:8080/",
     "height": 35
    },
    "execution": {
     "iopub.execute_input": "2022-01-10T03:46:56.659693Z",
     "iopub.status.busy": "2022-01-10T03:46:56.659033Z",
     "iopub.status.idle": "2022-01-10T03:46:56.678972Z",
     "shell.execute_reply": "2022-01-10T03:46:56.678106Z",
     "shell.execute_reply.started": "2022-01-10T03:46:56.659669Z"
    },
    "id": "U3adyDCdnSVQ",
    "outputId": "778e02c1-79bf-47b6-c86e-c37592d12131"
   },
   "outputs": [],
   "source": [
    "# change a column name\n",
    "airline_data.rename(columns={airline_data.columns[1]: 'passengers'}, inplace=True)\n",
    "airline_data.columns[1]"
   ]
  },
  {
   "cell_type": "code",
   "execution_count": null,
   "metadata": {
    "colab": {
     "base_uri": "https://localhost:8080/",
     "height": 424
    },
    "id": "Vcetpk1pnSVR",
    "outputId": "7f638877-777e-407f-a8f8-aa448c3dccb2"
   },
   "outputs": [],
   "source": [
    "# check 'NaN' in dataset\n",
    "airline_data.isnull()"
   ]
  },
  {
   "cell_type": "code",
   "execution_count": null,
   "metadata": {
    "colab": {
     "base_uri": "https://localhost:8080/"
    },
    "id": "irT3niMmnSVR",
    "outputId": "d3055caf-e7af-41cd-aa44-1c43726bd342"
   },
   "outputs": [],
   "source": [
    "# count 'NaN' in dataset\n",
    "airline_data.isnull().sum()"
   ]
  },
  {
   "cell_type": "code",
   "execution_count": null,
   "metadata": {
    "colab": {
     "base_uri": "https://localhost:8080/",
     "height": 206
    },
    "execution": {
     "iopub.execute_input": "2022-01-10T03:46:56.681912Z",
     "iopub.status.busy": "2022-01-10T03:46:56.680752Z",
     "iopub.status.idle": "2022-01-10T03:46:56.699728Z",
     "shell.execute_reply": "2022-01-10T03:46:56.698967Z",
     "shell.execute_reply.started": "2022-01-10T03:46:56.681834Z"
    },
    "id": "qNxwWpXenSVS",
    "outputId": "5ee0b52a-92f9-4ab6-8b64-358bbd3e2908"
   },
   "outputs": [],
   "source": [
    "airline_data.tail(5)"
   ]
  },
  {
   "cell_type": "code",
   "execution_count": null,
   "metadata": {
    "colab": {
     "base_uri": "https://localhost:8080/"
    },
    "execution": {
     "iopub.execute_input": "2022-01-10T03:46:56.701236Z",
     "iopub.status.busy": "2022-01-10T03:46:56.701028Z",
     "iopub.status.idle": "2022-01-10T03:46:56.724221Z",
     "shell.execute_reply": "2022-01-10T03:46:56.723105Z",
     "shell.execute_reply.started": "2022-01-10T03:46:56.701208Z"
    },
    "id": "69TGER_pnSVS",
    "outputId": "d1586e89-6221-402f-9804-c985d3682a42"
   },
   "outputs": [],
   "source": [
    "# drop 'NaN' in dataset\n",
    "airline_data.dropna(inplace=True)\n",
    "airline_data.isnull().sum()"
   ]
  },
  {
   "cell_type": "code",
   "execution_count": null,
   "metadata": {
    "colab": {
     "base_uri": "https://localhost:8080/",
     "height": 206
    },
    "execution": {
     "iopub.execute_input": "2022-01-10T03:46:56.783734Z",
     "iopub.status.busy": "2022-01-10T03:46:56.783321Z",
     "iopub.status.idle": "2022-01-10T03:46:56.796349Z",
     "shell.execute_reply": "2022-01-10T03:46:56.795159Z",
     "shell.execute_reply.started": "2022-01-10T03:46:56.783696Z"
    },
    "id": "97WFwK9vnSVS",
    "outputId": "2e07092d-ef23-4f13-9d4a-8cca1f043c5d"
   },
   "outputs": [],
   "source": [
    "airline_data.tail(5)"
   ]
  },
  {
   "cell_type": "code",
   "execution_count": null,
   "metadata": {
    "colab": {
     "base_uri": "https://localhost:8080/",
     "height": 455
    },
    "execution": {
     "iopub.execute_input": "2022-01-10T03:46:56.798856Z",
     "iopub.status.busy": "2022-01-10T03:46:56.79824Z",
     "iopub.status.idle": "2022-01-10T03:46:56.816523Z",
     "shell.execute_reply": "2022-01-10T03:46:56.815899Z",
     "shell.execute_reply.started": "2022-01-10T03:46:56.798829Z"
    },
    "id": "LaQ3DWXonSVS",
    "outputId": "49b464f6-d9d6-4364-9d02-d4d69372d823"
   },
   "outputs": [],
   "source": [
    "airline_data.set_index('Month', inplace=True)\n",
    "airline_data.index=pd.to_datetime(airline_data.index)\n",
    "airline_data"
   ]
  },
  {
   "cell_type": "code",
   "execution_count": null,
   "metadata": {
    "colab": {
     "base_uri": "https://localhost:8080/",
     "height": 516
    },
    "execution": {
     "iopub.execute_input": "2022-01-10T03:46:56.818491Z",
     "iopub.status.busy": "2022-01-10T03:46:56.817615Z",
     "iopub.status.idle": "2022-01-10T03:46:57.060509Z",
     "shell.execute_reply": "2022-01-10T03:46:57.059817Z",
     "shell.execute_reply.started": "2022-01-10T03:46:56.818377Z"
    },
    "id": "UA402DZZnSVT",
    "outputId": "4b314287-b356-4dc5-a824-bbec4fbd141b"
   },
   "outputs": [],
   "source": [
    "# plotting\n",
    "fig = plt.figure(figsize=(12,8))\n",
    "plt.plot(airline_data['passengers'])\n",
    "plt.title('International airline passengers', fontsize=12)\n",
    "plt.xlabel('Month', fontsize=12)\n",
    "plt.ylabel('Passengers', fontsize=12)\n",
    "\n",
    "plt.show()"
   ]
  },
  {
   "cell_type": "markdown",
   "metadata": {
    "id": "33WpYy3GnSVT"
   },
   "source": [
    "# Decomposition of time series data"
   ]
  },
  {
   "cell_type": "code",
   "execution_count": null,
   "metadata": {
    "colab": {
     "base_uri": "https://localhost:8080/"
    },
    "id": "YsUuMZxWpMJA",
    "outputId": "2fdcb80d-2c85-4a54-83be-fa6634e8eeb9"
   },
   "outputs": [],
   "source": [
    "pip install statsmodels"
   ]
  },
  {
   "cell_type": "code",
   "execution_count": null,
   "metadata": {
    "execution": {
     "iopub.execute_input": "2022-01-10T03:46:57.061939Z",
     "iopub.status.busy": "2022-01-10T03:46:57.061573Z",
     "iopub.status.idle": "2022-01-10T03:46:58.107791Z",
     "shell.execute_reply": "2022-01-10T03:46:58.107049Z",
     "shell.execute_reply.started": "2022-01-10T03:46:57.061914Z"
    },
    "id": "fWs-YH0MnSVT"
   },
   "outputs": [],
   "source": [
    "from statsmodels.tsa.seasonal import seasonal_decompose"
   ]
  },
  {
   "cell_type": "code",
   "execution_count": null,
   "metadata": {
    "execution": {
     "iopub.execute_input": "2022-01-10T03:46:58.109951Z",
     "iopub.status.busy": "2022-01-10T03:46:58.109339Z",
     "iopub.status.idle": "2022-01-10T03:46:58.114756Z",
     "shell.execute_reply": "2022-01-10T03:46:58.11429Z",
     "shell.execute_reply.started": "2022-01-10T03:46:58.109921Z"
    },
    "id": "kW2YrlQInSVT"
   },
   "outputs": [],
   "source": [
    "multiple_results = seasonal_decompose(airline_data['passengers'], model='multiplicable')"
   ]
  },
  {
   "cell_type": "code",
   "execution_count": null,
   "metadata": {
    "colab": {
     "base_uri": "https://localhost:8080/",
     "height": 585
    },
    "execution": {
     "iopub.execute_input": "2022-01-10T03:46:58.116098Z",
     "iopub.status.busy": "2022-01-10T03:46:58.115858Z",
     "iopub.status.idle": "2022-01-10T03:46:58.674523Z",
     "shell.execute_reply": "2022-01-10T03:46:58.673741Z",
     "shell.execute_reply.started": "2022-01-10T03:46:58.116077Z"
    },
    "id": "2jMG8p9LnSVU",
    "outputId": "de80a136-6665-48b2-a017-09cf47fb1c2b"
   },
   "outputs": [],
   "source": [
    "# Decomposition plotting\n",
    "plt.rcParams['figure.figsize']=[12,8]\n",
    "multiple_results.plot()\n",
    "plt.show()"
   ]
  },
  {
   "cell_type": "code",
   "execution_count": null,
   "metadata": {
    "colab": {
     "base_uri": "https://localhost:8080/",
     "height": 515
    },
    "execution": {
     "iopub.execute_input": "2022-01-10T03:46:58.676253Z",
     "iopub.status.busy": "2022-01-10T03:46:58.675738Z",
     "iopub.status.idle": "2022-01-10T03:46:58.908738Z",
     "shell.execute_reply": "2022-01-10T03:46:58.908171Z",
     "shell.execute_reply.started": "2022-01-10T03:46:58.67622Z"
    },
    "id": "4rOKtA8nnSVU",
    "outputId": "06463b80-bfc4-4958-bf80-01047eb70d12"
   },
   "outputs": [],
   "source": [
    "multiple_results.trend.plot()"
   ]
  },
  {
   "cell_type": "code",
   "execution_count": null,
   "metadata": {
    "colab": {
     "base_uri": "https://localhost:8080/",
     "height": 515
    },
    "execution": {
     "iopub.execute_input": "2022-01-10T03:46:58.910479Z",
     "iopub.status.busy": "2022-01-10T03:46:58.910089Z",
     "iopub.status.idle": "2022-01-10T03:46:59.133001Z",
     "shell.execute_reply": "2022-01-10T03:46:59.131943Z",
     "shell.execute_reply.started": "2022-01-10T03:46:58.910443Z"
    },
    "id": "KuZrlwnDnSVU",
    "outputId": "79fe1875-d8a0-4cae-ec1f-3f3268222b15"
   },
   "outputs": [],
   "source": [
    "multiple_results.seasonal.plot()"
   ]
  },
  {
   "cell_type": "code",
   "execution_count": null,
   "metadata": {
    "colab": {
     "base_uri": "https://localhost:8080/",
     "height": 515
    },
    "execution": {
     "iopub.execute_input": "2022-01-10T03:46:59.134621Z",
     "iopub.status.busy": "2022-01-10T03:46:59.134357Z",
     "iopub.status.idle": "2022-01-10T03:46:59.378222Z",
     "shell.execute_reply": "2022-01-10T03:46:59.376646Z",
     "shell.execute_reply.started": "2022-01-10T03:46:59.134598Z"
    },
    "id": "tnI67V_PnSVU",
    "outputId": "807cb9ed-dcbe-43ce-9861-f3ea3ccc5d8f"
   },
   "outputs": [],
   "source": [
    "multiple_results.resid.plot()"
   ]
  },
  {
   "cell_type": "code",
   "execution_count": null,
   "metadata": {
    "execution": {
     "iopub.execute_input": "2022-01-10T03:46:59.380054Z",
     "iopub.status.busy": "2022-01-10T03:46:59.379743Z",
     "iopub.status.idle": "2022-01-10T03:46:59.387564Z",
     "shell.execute_reply": "2022-01-10T03:46:59.386654Z",
     "shell.execute_reply.started": "2022-01-10T03:46:59.380014Z"
    },
    "id": "OwQSi-oFnSVU"
   },
   "outputs": [],
   "source": [
    "addict_results = seasonal_decompose(airline_data['passengers'], model='additive')"
   ]
  },
  {
   "cell_type": "code",
   "execution_count": null,
   "metadata": {
    "colab": {
     "base_uri": "https://localhost:8080/",
     "height": 585
    },
    "execution": {
     "iopub.execute_input": "2022-01-10T03:46:59.389147Z",
     "iopub.status.busy": "2022-01-10T03:46:59.388751Z",
     "iopub.status.idle": "2022-01-10T03:47:00.119263Z",
     "shell.execute_reply": "2022-01-10T03:47:00.11795Z",
     "shell.execute_reply.started": "2022-01-10T03:46:59.38912Z"
    },
    "id": "P22OwXZunSVV",
    "outputId": "43e3bd86-7b3f-4ee6-95dd-9df182c560fd"
   },
   "outputs": [],
   "source": [
    "plt.rcParams['figure.figsize']=[12,8]\n",
    "addict_results.plot()\n",
    "plt.show()"
   ]
  },
  {
   "cell_type": "markdown",
   "metadata": {
    "id": "s8IYl7X1nSVV"
   },
   "source": [
    "# Evaluation metrics"
   ]
  },
  {
   "cell_type": "code",
   "execution_count": null,
   "metadata": {
    "execution": {
     "iopub.execute_input": "2022-01-10T03:47:00.120655Z",
     "iopub.status.busy": "2022-01-10T03:47:00.120496Z",
     "iopub.status.idle": "2022-01-10T03:47:00.409784Z",
     "shell.execute_reply": "2022-01-10T03:47:00.409038Z",
     "shell.execute_reply.started": "2022-01-10T03:47:00.120633Z"
    },
    "id": "5zsi5RfanSVV"
   },
   "outputs": [],
   "source": [
    "from sklearn.metrics import mean_absolute_error, mean_squared_error "
   ]
  },
  {
   "cell_type": "code",
   "execution_count": null,
   "metadata": {
    "execution": {
     "iopub.execute_input": "2022-01-10T03:47:00.41113Z",
     "iopub.status.busy": "2022-01-10T03:47:00.410956Z",
     "iopub.status.idle": "2022-01-10T03:47:00.419694Z",
     "shell.execute_reply": "2022-01-10T03:47:00.418363Z",
     "shell.execute_reply.started": "2022-01-10T03:47:00.411108Z"
    },
    "id": "zFjGC96pnSVV"
   },
   "outputs": [],
   "source": [
    "example_data = pd.read_csv(io.BytesIO(myfile['example-mad-mae.csv']), index_col=0)"
   ]
  },
  {
   "cell_type": "code",
   "execution_count": null,
   "metadata": {
    "colab": {
     "base_uri": "https://localhost:8080/",
     "height": 143
    },
    "id": "-KnsLoZLnSVV",
    "outputId": "6007222c-7f2b-426b-d08c-6d3a0e12605e"
   },
   "outputs": [],
   "source": [
    "example_data.head(5)"
   ]
  },
  {
   "cell_type": "code",
   "execution_count": null,
   "metadata": {
    "colab": {
     "base_uri": "https://localhost:8080/"
    },
    "id": "Y8fZm6XYnSVV",
    "outputId": "88762159-cff8-4932-b0e2-99c66ce68b10"
   },
   "outputs": [],
   "source": [
    "example_data.columns"
   ]
  },
  {
   "cell_type": "code",
   "execution_count": null,
   "metadata": {
    "execution": {
     "iopub.execute_input": "2022-01-10T03:47:00.423241Z",
     "iopub.status.busy": "2022-01-10T03:47:00.422576Z",
     "iopub.status.idle": "2022-01-10T03:47:00.432068Z",
     "shell.execute_reply": "2022-01-10T03:47:00.430702Z",
     "shell.execute_reply.started": "2022-01-10T03:47:00.423214Z"
    },
    "id": "4JZ-UF0EnSVV"
   },
   "outputs": [],
   "source": [
    "def MAPE(y_true, y_pred):\n",
    "    return np.mean(np.abs((y_true - y_pred) / y_true)) *100\n",
    "\n",
    "def MAD(y_true, y_pred):\n",
    "    return np.mean(np.abs(y_true - y_pred))\n",
    "\n",
    "def MSE(y_true, y_pred):\n",
    "    return np.mean(np.square(y_true - y_pred))"
   ]
  },
  {
   "cell_type": "markdown",
   "metadata": {
    "id": "m0u7AWaBnSVW"
   },
   "source": [
    "#### MAD"
   ]
  },
  {
   "cell_type": "code",
   "execution_count": null,
   "metadata": {
    "colab": {
     "base_uri": "https://localhost:8080/"
    },
    "execution": {
     "iopub.execute_input": "2022-01-10T03:47:00.448601Z",
     "iopub.status.busy": "2022-01-10T03:47:00.447924Z",
     "iopub.status.idle": "2022-01-10T03:47:00.462424Z",
     "shell.execute_reply": "2022-01-10T03:47:00.461876Z",
     "shell.execute_reply.started": "2022-01-10T03:47:00.448576Z"
    },
    "id": "VtPpyWYhnSVW",
    "outputId": "9e9c8e5d-be60-4a15-8cbc-260a984c1643"
   },
   "outputs": [],
   "source": [
    "# caluate a MAD(MAE)\n",
    "mad1 = MAD(example_data['actual_y'], example_data['pred_y'])\n",
    "print(f'MAD by coding = {mad1:.2f}')\n",
    "mad2 = mean_absolute_error(example_data['actual_y'], example_data['pred_y'])\n",
    "print(f'MAD in package = {mad2:.2f}')"
   ]
  },
  {
   "cell_type": "markdown",
   "metadata": {
    "id": "DaYb6MBMnSVW"
   },
   "source": [
    "#### MSE"
   ]
  },
  {
   "cell_type": "code",
   "execution_count": null,
   "metadata": {
    "colab": {
     "base_uri": "https://localhost:8080/"
    },
    "execution": {
     "iopub.execute_input": "2022-01-10T03:47:00.464263Z",
     "iopub.status.busy": "2022-01-10T03:47:00.463338Z",
     "iopub.status.idle": "2022-01-10T03:47:00.477182Z",
     "shell.execute_reply": "2022-01-10T03:47:00.475895Z",
     "shell.execute_reply.started": "2022-01-10T03:47:00.46423Z"
    },
    "id": "fpcKXUU_nSVW",
    "outputId": "ce52f909-32fa-487f-eb79-3ad15197b087"
   },
   "outputs": [],
   "source": [
    "# calculate a MSE\n",
    "mse1 = MSE(example_data['actual_y'], example_data['pred_y'])\n",
    "print(f'MSE by coding = {mse1:.2f}')\n",
    "mse2 = mean_squared_error(example_data['actual_y'], example_data['pred_y'])\n",
    "print(f'MSE in package = {mse2:.2f}')"
   ]
  },
  {
   "cell_type": "markdown",
   "metadata": {
    "id": "A_2cl1_mnSVW"
   },
   "source": [
    "#### MAPE"
   ]
  },
  {
   "cell_type": "code",
   "execution_count": null,
   "metadata": {
    "colab": {
     "base_uri": "https://localhost:8080/"
    },
    "execution": {
     "iopub.execute_input": "2022-01-10T03:47:00.47909Z",
     "iopub.status.busy": "2022-01-10T03:47:00.478859Z",
     "iopub.status.idle": "2022-01-10T03:47:00.493822Z",
     "shell.execute_reply": "2022-01-10T03:47:00.493217Z",
     "shell.execute_reply.started": "2022-01-10T03:47:00.479061Z"
    },
    "id": "hvaJVKQhnSVW",
    "outputId": "fef04f93-5a62-4c0d-c16f-9cf5cdb5c91f"
   },
   "outputs": [],
   "source": [
    "# calculate a MAPE\n",
    "mape = MAPE(example_data['actual_y'], example_data['pred_y'])\n",
    "print(f'MAPE by coding = {mape:.2f}')"
   ]
  },
  {
   "cell_type": "markdown",
   "metadata": {
    "id": "62i_Mxf7nSVW"
   },
   "source": [
    "# No-trend, linear-trend, quadratic-trend model"
   ]
  },
  {
   "cell_type": "markdown",
   "metadata": {
    "id": "MR7ynIbLnSVX"
   },
   "source": [
    "#### 1. no-trend model"
   ]
  },
  {
   "cell_type": "code",
   "execution_count": null,
   "metadata": {
    "execution": {
     "iopub.execute_input": "2022-01-10T03:47:00.495101Z",
     "iopub.status.busy": "2022-01-10T03:47:00.494583Z",
     "iopub.status.idle": "2022-01-10T03:47:00.51268Z",
     "shell.execute_reply": "2022-01-10T03:47:00.512037Z",
     "shell.execute_reply.started": "2022-01-10T03:47:00.495075Z"
    },
    "id": "i7nz-6FZnSVX"
   },
   "outputs": [],
   "source": [
    "no_trend_data = pd.read_csvexample_data = pd.read_csv(io.BytesIO(myfile['no-trend-data.csv']))"
   ]
  },
  {
   "cell_type": "code",
   "execution_count": null,
   "metadata": {
    "colab": {
     "base_uri": "https://localhost:8080/",
     "height": 206
    },
    "id": "cJVMz1zmnSVX",
    "outputId": "a9056432-e8ed-4998-8c5f-1a795f8c8799"
   },
   "outputs": [],
   "source": [
    "no_trend_data.head(5)"
   ]
  },
  {
   "cell_type": "code",
   "execution_count": null,
   "metadata": {
    "colab": {
     "base_uri": "https://localhost:8080/"
    },
    "execution": {
     "iopub.execute_input": "2022-01-10T03:47:00.514044Z",
     "iopub.status.busy": "2022-01-10T03:47:00.513687Z",
     "iopub.status.idle": "2022-01-10T03:47:00.525228Z",
     "shell.execute_reply": "2022-01-10T03:47:00.524822Z",
     "shell.execute_reply.started": "2022-01-10T03:47:00.514019Z"
    },
    "id": "xZG1Gc1tnSVX",
    "outputId": "dc94d152-9af0-4393-d734-3aec4677fc12"
   },
   "outputs": [],
   "source": [
    "# No-trend model\n",
    "pred_no_trend = (np.mean(no_trend_data['year1']) + np.mean(no_trend_data['year2']))/2\n",
    "print(pred_no_trend)"
   ]
  },
  {
   "cell_type": "code",
   "execution_count": null,
   "metadata": {
    "id": "sfIJ-9i7nSVX"
   },
   "outputs": [],
   "source": [
    "x = pd.concat([no_trend_data['Month'], no_trend_data['Month']+12], axis=0)\n",
    "y1 = pd.concat([no_trend_data['year1'], no_trend_data['year2']], axis=0)\n",
    "y2 = np.full(24, [pred_no_trend])"
   ]
  },
  {
   "cell_type": "code",
   "execution_count": null,
   "metadata": {
    "colab": {
     "base_uri": "https://localhost:8080/",
     "height": 516
    },
    "id": "w5QokVJvnSVX",
    "outputId": "6d4b9244-e26f-4f45-c484-85eae77dce46"
   },
   "outputs": [],
   "source": [
    "# plotting predicion value and real value\n",
    "fig = plt.figure(figsize=(12,8))\n",
    "plt.scatter(x, y1, color='b')\n",
    "plt.plot(x, y2, color='r')\n",
    "plt.title('Prediction of \"No-trend model\"', fontsize=12)\n",
    "plt.xlabel('Month', fontsize=12)\n",
    "plt.ylabel('tons', fontsize=12)\n",
    "plt.rc('xtick', labelsize=10)\n",
    "plt.rc('ytick', labelsize=10)\n",
    "plt.show()"
   ]
  },
  {
   "cell_type": "markdown",
   "metadata": {
    "id": "5JTw0_SgnSVX"
   },
   "source": [
    "#### 2. Linear-trend model"
   ]
  },
  {
   "cell_type": "code",
   "execution_count": null,
   "metadata": {
    "execution": {
     "iopub.execute_input": "2022-01-10T03:47:00.526422Z",
     "iopub.status.busy": "2022-01-10T03:47:00.526193Z",
     "iopub.status.idle": "2022-01-10T03:47:00.543652Z",
     "shell.execute_reply": "2022-01-10T03:47:00.542922Z",
     "shell.execute_reply.started": "2022-01-10T03:47:00.526401Z"
    },
    "id": "HwpYwBGFnSVX"
   },
   "outputs": [],
   "source": [
    "linear_data = pd.read_csv(io.BytesIO(myfile['linear-trend-data.csv']))"
   ]
  },
  {
   "cell_type": "code",
   "execution_count": null,
   "metadata": {
    "colab": {
     "base_uri": "https://localhost:8080/",
     "height": 206
    },
    "id": "TCv1X_S-nSVX",
    "outputId": "4d75a314-34ef-4906-9bf6-386dcc5f0643"
   },
   "outputs": [],
   "source": [
    "linear_data.head(5)"
   ]
  },
  {
   "cell_type": "code",
   "execution_count": null,
   "metadata": {
    "execution": {
     "iopub.execute_input": "2022-01-10T03:47:00.545981Z",
     "iopub.status.busy": "2022-01-10T03:47:00.545468Z",
     "iopub.status.idle": "2022-01-10T03:47:00.852694Z",
     "shell.execute_reply": "2022-01-10T03:47:00.852224Z",
     "shell.execute_reply.started": "2022-01-10T03:47:00.545932Z"
    },
    "id": "IA2budx5nSVY"
   },
   "outputs": [],
   "source": [
    "from statsmodels.formula.api import ols\n",
    "import seaborn as sns"
   ]
  },
  {
   "cell_type": "code",
   "execution_count": null,
   "metadata": {
    "execution": {
     "iopub.execute_input": "2022-01-10T03:47:00.853916Z",
     "iopub.status.busy": "2022-01-10T03:47:00.853481Z",
     "iopub.status.idle": "2022-01-10T03:47:00.879027Z",
     "shell.execute_reply": "2022-01-10T03:47:00.877607Z",
     "shell.execute_reply.started": "2022-01-10T03:47:00.853891Z"
    },
    "id": "QtuITxncnSVY"
   },
   "outputs": [],
   "source": [
    "# lienar-trend model\n",
    "linear_model = ols('Sales ~ Time', data=linear_data).fit()"
   ]
  },
  {
   "cell_type": "code",
   "execution_count": null,
   "metadata": {
    "colab": {
     "base_uri": "https://localhost:8080/"
    },
    "execution": {
     "iopub.execute_input": "2022-01-10T03:47:00.881088Z",
     "iopub.status.busy": "2022-01-10T03:47:00.88087Z",
     "iopub.status.idle": "2022-01-10T03:47:00.895102Z",
     "shell.execute_reply": "2022-01-10T03:47:00.894517Z",
     "shell.execute_reply.started": "2022-01-10T03:47:00.881066Z"
    },
    "id": "KDy5YTzJnSVY",
    "outputId": "aee71c7e-0d7a-476e-e9d8-74f908dc05dd"
   },
   "outputs": [],
   "source": [
    "linear_model.params"
   ]
  },
  {
   "cell_type": "code",
   "execution_count": null,
   "metadata": {
    "colab": {
     "base_uri": "https://localhost:8080/",
     "height": 452
    },
    "execution": {
     "iopub.execute_input": "2022-01-10T03:47:00.896779Z",
     "iopub.status.busy": "2022-01-10T03:47:00.896363Z",
     "iopub.status.idle": "2022-01-10T03:47:00.923196Z",
     "shell.execute_reply": "2022-01-10T03:47:00.922797Z",
     "shell.execute_reply.started": "2022-01-10T03:47:00.896727Z"
    },
    "id": "GBBSKIISnSVY",
    "outputId": "ef98e543-ec05-4647-950c-2767d60e4ce7"
   },
   "outputs": [],
   "source": [
    "linear_model.summary()"
   ]
  },
  {
   "cell_type": "code",
   "execution_count": null,
   "metadata": {
    "colab": {
     "base_uri": "https://localhost:8080/"
    },
    "execution": {
     "iopub.execute_input": "2022-01-10T03:47:00.9269Z",
     "iopub.status.busy": "2022-01-10T03:47:00.92583Z",
     "iopub.status.idle": "2022-01-10T03:47:00.935864Z",
     "shell.execute_reply": "2022-01-10T03:47:00.935417Z",
     "shell.execute_reply.started": "2022-01-10T03:47:00.92686Z"
    },
    "id": "Bk2fDeq3nSVY",
    "outputId": "ab08df5e-6ac2-44c4-b4ab-d4c80b843b88"
   },
   "outputs": [],
   "source": [
    "pred_linear = linear_model.predict(linear_data['Time'])\n",
    "pred_linear"
   ]
  },
  {
   "cell_type": "code",
   "execution_count": null,
   "metadata": {
    "colab": {
     "base_uri": "https://localhost:8080/"
    },
    "execution": {
     "iopub.execute_input": "2022-01-10T03:47:00.937647Z",
     "iopub.status.busy": "2022-01-10T03:47:00.937048Z",
     "iopub.status.idle": "2022-01-10T03:47:00.957039Z",
     "shell.execute_reply": "2022-01-10T03:47:00.956348Z",
     "shell.execute_reply.started": "2022-01-10T03:47:00.937615Z"
    },
    "id": "Km2hfmvKnSVY",
    "outputId": "9b293d78-442b-4f6b-f770-d86218278c39"
   },
   "outputs": [],
   "source": [
    "new_time = pd.DataFrame([25], columns=['Time'])\n",
    "pred_new_time = linear_model.predict(new_time)\n",
    "print(f'predition value when Time = 25 : {pred_new_time[0]:.2f}')"
   ]
  },
  {
   "cell_type": "code",
   "execution_count": null,
   "metadata": {
    "colab": {
     "base_uri": "https://localhost:8080/",
     "height": 497
    },
    "execution": {
     "iopub.execute_input": "2022-01-10T03:47:00.958692Z",
     "iopub.status.busy": "2022-01-10T03:47:00.958469Z",
     "iopub.status.idle": "2022-01-10T03:47:01.217336Z",
     "shell.execute_reply": "2022-01-10T03:47:01.216805Z",
     "shell.execute_reply.started": "2022-01-10T03:47:00.958665Z"
    },
    "id": "9NgoBrcXnSVY",
    "outputId": "8b87f327-74d0-46c8-8448-03e59bfd023f"
   },
   "outputs": [],
   "source": [
    "plt.rcParams['figure.figsize'] = (12,8)\n",
    "sns.regplot(x='Time', y='Sales', data=linear_data)\n",
    "plt.show()"
   ]
  },
  {
   "cell_type": "code",
   "execution_count": null,
   "metadata": {
    "colab": {
     "base_uri": "https://localhost:8080/",
     "height": 516
    },
    "id": "8DKDyhkCnSVY",
    "outputId": "69682c27-3a5b-4dab-8dad-7240e08d6790"
   },
   "outputs": [],
   "source": [
    "# plotting predicion value and real value\n",
    "fig = plt.figure(figsize=(12,8))\n",
    "plt.scatter(linear_data['Time'], linear_data['Sales'], color='g')\n",
    "plt.plot(linear_data['Time'], pred_linear, color='orange')\n",
    "plt.title('Prediction of \"Linear-trend model\"', fontsize=12)\n",
    "plt.xlabel('Time', fontsize=12)\n",
    "plt.ylabel('Sales', fontsize=12)\n",
    "plt.rc('xtick', labelsize=10)\n",
    "plt.rc('ytick', labelsize=10)\n",
    "plt.show()"
   ]
  },
  {
   "cell_type": "markdown",
   "metadata": {
    "id": "BOPy86yLnSVZ"
   },
   "source": [
    "#### 3. Quadratic-trend model"
   ]
  },
  {
   "cell_type": "code",
   "execution_count": null,
   "metadata": {
    "colab": {
     "base_uri": "https://localhost:8080/",
     "height": 206
    },
    "execution": {
     "iopub.execute_input": "2022-01-10T03:47:01.218558Z",
     "iopub.status.busy": "2022-01-10T03:47:01.218332Z",
     "iopub.status.idle": "2022-01-10T03:47:01.227818Z",
     "shell.execute_reply": "2022-01-10T03:47:01.226611Z",
     "shell.execute_reply.started": "2022-01-10T03:47:01.218536Z"
    },
    "id": "b2fcyojqnSVZ",
    "outputId": "461e0075-04b3-40a9-b70f-6f50a11d9260"
   },
   "outputs": [],
   "source": [
    "quadratic_data = pd.read_csv(io.BytesIO(myfile['quadratic-trend-data.csv']))\n",
    "quadratic_data.head(5)"
   ]
  },
  {
   "cell_type": "code",
   "execution_count": null,
   "metadata": {
    "colab": {
     "base_uri": "https://localhost:8080/"
    },
    "execution": {
     "iopub.execute_input": "2022-01-10T03:47:01.230126Z",
     "iopub.status.busy": "2022-01-10T03:47:01.229172Z",
     "iopub.status.idle": "2022-01-10T03:47:01.250388Z",
     "shell.execute_reply": "2022-01-10T03:47:01.249285Z",
     "shell.execute_reply.started": "2022-01-10T03:47:01.230067Z"
    },
    "id": "2bDtYB-lnSVZ",
    "outputId": "485e8c7c-017b-4d41-be68-c697bb7ae391"
   },
   "outputs": [],
   "source": [
    "quadratic_data.columns"
   ]
  },
  {
   "cell_type": "code",
   "execution_count": null,
   "metadata": {
    "execution": {
     "iopub.execute_input": "2022-01-10T03:47:01.251608Z",
     "iopub.status.busy": "2022-01-10T03:47:01.251363Z",
     "iopub.status.idle": "2022-01-10T03:47:01.268427Z",
     "shell.execute_reply": "2022-01-10T03:47:01.267906Z",
     "shell.execute_reply.started": "2022-01-10T03:47:01.251586Z"
    },
    "id": "Z8WATSm0nSVZ"
   },
   "outputs": [],
   "source": [
    "# quadratic-trend model\n",
    "quadratic_model = ols('Loan_request ~ Time+Time_squared', data=quadratic_data).fit()"
   ]
  },
  {
   "cell_type": "code",
   "execution_count": null,
   "metadata": {
    "colab": {
     "base_uri": "https://localhost:8080/",
     "height": 473
    },
    "execution": {
     "iopub.execute_input": "2022-01-10T03:47:01.269839Z",
     "iopub.status.busy": "2022-01-10T03:47:01.269396Z",
     "iopub.status.idle": "2022-01-10T03:47:01.287985Z",
     "shell.execute_reply": "2022-01-10T03:47:01.286902Z",
     "shell.execute_reply.started": "2022-01-10T03:47:01.269806Z"
    },
    "id": "6syxqw_5nSVZ",
    "outputId": "c9412820-dac6-459f-81f3-26f763aa2c3a"
   },
   "outputs": [],
   "source": [
    "quadratic_model.summary()"
   ]
  },
  {
   "cell_type": "code",
   "execution_count": null,
   "metadata": {
    "colab": {
     "base_uri": "https://localhost:8080/"
    },
    "execution": {
     "iopub.execute_input": "2022-01-10T03:47:01.289988Z",
     "iopub.status.busy": "2022-01-10T03:47:01.289662Z",
     "iopub.status.idle": "2022-01-10T03:47:01.30687Z",
     "shell.execute_reply": "2022-01-10T03:47:01.305941Z",
     "shell.execute_reply.started": "2022-01-10T03:47:01.289955Z"
    },
    "id": "AXiiBJEbnSVZ",
    "outputId": "da45071a-1e65-4b3f-b615-39d960557b6c"
   },
   "outputs": [],
   "source": [
    "pred_quadra = quadratic_model.predict(quadratic_data[['Time', 'Time_squared']])\n",
    "pred_quadra"
   ]
  },
  {
   "cell_type": "code",
   "execution_count": null,
   "metadata": {
    "colab": {
     "base_uri": "https://localhost:8080/",
     "height": 516
    },
    "id": "9XJdMlN5nSVZ",
    "outputId": "9b197053-81c0-446b-f9b6-a381e010e0cd"
   },
   "outputs": [],
   "source": [
    "# plotting predicion value and real value\n",
    "fig = plt.figure(figsize=(12,8))\n",
    "plt.scatter(quadratic_data['Time'], quadratic_data['Loan_request'], color='royalblue')\n",
    "plt.plot(quadratic_data['Time'], pred_quadra, color='red')\n",
    "plt.title('Prediction of \"Quadratic-trend model\"', fontsize=12)\n",
    "plt.xlabel('Time', fontsize=12)\n",
    "plt.ylabel('Sales', fontsize=12)\n",
    "plt.rc('xtick', labelsize=10)\n",
    "plt.rc('ytick', labelsize=10)\n",
    "plt.show()"
   ]
  },
  {
   "cell_type": "code",
   "execution_count": null,
   "metadata": {
    "colab": {
     "base_uri": "https://localhost:8080/",
     "height": 516
    },
    "id": "aolc8wSsnSVZ",
    "outputId": "5d1b2273-3338-4674-ced2-8e467db1f4b2"
   },
   "outputs": [],
   "source": [
    "linear_model_Loan = ols('Loan_request ~ Time', data=quadratic_data).fit()\n",
    "pred_linear_Loan = linear_model_Loan.predict(quadratic_data['Time'])\n",
    "\n",
    "# plotting predicion value and real value (two models)\n",
    "fig = plt.figure(figsize=(12,8))\n",
    "plt.scatter(quadratic_data['Time'], quadratic_data['Loan_request'], color='royalblue')\n",
    "plt.plot(quadratic_data['Time'], pred_quadra, color='red')\n",
    "plt.plot(quadratic_data['Time'], pred_linear_Loan, color='green')\n",
    "plt.title('Prediction of \"Quadratic-trend model\"', fontsize=12)\n",
    "plt.xlabel('Time', fontsize=12)\n",
    "plt.ylabel('Sales', fontsize=12)\n",
    "plt.rc('xtick', labelsize=10)\n",
    "plt.rc('ytick', labelsize=10)\n",
    "plt.show()"
   ]
  }
 ],
 "metadata": {
  "colab": {
   "name": "time-series1.ipynb",
   "provenance": []
  },
  "kernelspec": {
   "display_name": "Python 3 (ipykernel)",
   "language": "python",
   "name": "python3"
  },
  "language_info": {
   "codemirror_mode": {
    "name": "ipython",
    "version": 3
   },
   "file_extension": ".py",
   "mimetype": "text/x-python",
   "name": "python",
   "nbconvert_exporter": "python",
   "pygments_lexer": "ipython3",
   "version": "3.8.12"
  }
 },
 "nbformat": 4,
 "nbformat_minor": 1
}
