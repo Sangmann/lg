{
  "cells": [
    {
      "cell_type": "markdown",
      "metadata": {
        "id": "ieG6jYR5tnuy"
      },
      "source": [
        "# Binary Variable Models"
      ]
    },
    {
      "cell_type": "markdown",
      "metadata": {
        "id": "W28syg49tnu1"
      },
      "source": [
        "![image.png](attachment:1d5f89ec-f63e-4d2b-813a-7f417529774b.png)"
      ]
    },
    {
      "cell_type": "code",
      "execution_count": null,
      "metadata": {
        "id": "Vly_JKMLttbA"
      },
      "outputs": [],
      "source": [
        "pip install statsmodels"
      ]
    },
    {
      "cell_type": "code",
      "execution_count": null,
      "metadata": {
        "execution": {
          "iopub.execute_input": "2022-01-10T03:43:25.756085Z",
          "iopub.status.busy": "2022-01-10T03:43:25.75567Z",
          "iopub.status.idle": "2022-01-10T03:43:26.381844Z",
          "shell.execute_reply": "2022-01-10T03:43:26.381204Z",
          "shell.execute_reply.started": "2022-01-10T03:43:25.756052Z"
        },
        "id": "4eQuYoJ6tnu1"
      },
      "outputs": [],
      "source": [
        "import numpy as np\n",
        "import pandas as pd\n",
        "import matplotlib.pyplot as plt\n",
        "from statsmodels.formula.api import ols\n",
        "import seaborn as sns\n",
        "import os\n",
        "import io"
      ]
    },
    {
      "cell_type": "code",
      "execution_count": null,
      "metadata": {
        "id": "2R2ZwTo7tsKd"
      },
      "outputs": [],
      "source": [
        "from google.colab import files\n",
        "myfile = files.upload()"
      ]
    },
    {
      "cell_type": "code",
      "execution_count": null,
      "metadata": {
        "execution": {
          "iopub.execute_input": "2022-01-10T03:43:26.383408Z",
          "iopub.status.busy": "2022-01-10T03:43:26.383002Z",
          "iopub.status.idle": "2022-01-10T03:43:26.393927Z",
          "shell.execute_reply": "2022-01-10T03:43:26.393296Z",
          "shell.execute_reply.started": "2022-01-10T03:43:26.38336Z"
        },
        "id": "BPVwr1FWtnu2"
      },
      "outputs": [],
      "source": [
        "hotel_data = pd.read_csv('https://raw.githubusercontent.com/Sangmann/lg/main/example-hotel-rooms.csv')"
      ]
    },
    {
      "cell_type": "code",
      "execution_count": null,
      "metadata": {
        "execution": {
          "iopub.execute_input": "2022-01-10T03:43:26.396671Z",
          "iopub.status.busy": "2022-01-10T03:43:26.396358Z",
          "iopub.status.idle": "2022-01-10T03:43:26.411649Z",
          "shell.execute_reply": "2022-01-10T03:43:26.41061Z",
          "shell.execute_reply.started": "2022-01-10T03:43:26.396639Z"
        },
        "id": "Ozx6IKNHtnu3"
      },
      "outputs": [],
      "source": [
        "hotel_data.head(10)"
      ]
    },
    {
      "cell_type": "code",
      "execution_count": null,
      "metadata": {
        "execution": {
          "iopub.execute_input": "2022-01-10T03:43:26.413058Z",
          "iopub.status.busy": "2022-01-10T03:43:26.412836Z",
          "iopub.status.idle": "2022-01-10T03:43:26.42306Z",
          "shell.execute_reply": "2022-01-10T03:43:26.422211Z",
          "shell.execute_reply.started": "2022-01-10T03:43:26.41303Z"
        },
        "id": "yk2eXyu0tnu3"
      },
      "outputs": [],
      "source": [
        "hotel_data.shape"
      ]
    },
    {
      "cell_type": "code",
      "execution_count": null,
      "metadata": {
        "execution": {
          "iopub.execute_input": "2022-01-10T03:43:26.425124Z",
          "iopub.status.busy": "2022-01-10T03:43:26.4246Z",
          "iopub.status.idle": "2022-01-10T03:43:26.703766Z",
          "shell.execute_reply": "2022-01-10T03:43:26.7031Z",
          "shell.execute_reply.started": "2022-01-10T03:43:26.425076Z"
        },
        "id": "gtTv8ffQtnu3"
      },
      "outputs": [],
      "source": [
        "fig = plt.figure(figsize=(12,8))\n",
        "plt.plot(hotel_data['y'], marker='o')\n",
        "plt.title('Hotel rooms occupied for 14 years', fontsize=12)\n",
        "plt.xlabel('Month', fontsize=12)\n",
        "plt.ylabel('Occupied', fontsize=12)\n",
        "\n",
        "plt.show()"
      ]
    },
    {
      "cell_type": "code",
      "execution_count": null,
      "metadata": {
        "execution": {
          "iopub.execute_input": "2022-01-10T03:43:26.705266Z",
          "iopub.status.busy": "2022-01-10T03:43:26.704905Z",
          "iopub.status.idle": "2022-01-10T03:43:26.710036Z",
          "shell.execute_reply": "2022-01-10T03:43:26.709453Z",
          "shell.execute_reply.started": "2022-01-10T03:43:26.705229Z"
        },
        "id": "_HLrnFuNtnu4"
      },
      "outputs": [],
      "source": [
        "hotel_data['month'] = hotel_data['t'] % 12\n",
        "hotel_data['month'].tail(20)"
      ]
    },
    {
      "cell_type": "code",
      "execution_count": null,
      "metadata": {
        "execution": {
          "iopub.execute_input": "2022-01-10T03:43:26.727329Z",
          "iopub.status.busy": "2022-01-10T03:43:26.726537Z",
          "iopub.status.idle": "2022-01-10T03:43:26.753779Z",
          "shell.execute_reply": "2022-01-10T03:43:26.75311Z",
          "shell.execute_reply.started": "2022-01-10T03:43:26.727296Z"
        },
        "id": "pnXHFWQWtnu4"
      },
      "outputs": [],
      "source": [
        "hotel_dummy = pd.get_dummies(hotel_data['month'], drop_first=True)\n",
        "hotel_dummy.rename(columns = lambda x: \"m\" + str(x), inplace=True)\n",
        "hotel_dummy"
      ]
    },
    {
      "cell_type": "code",
      "execution_count": null,
      "metadata": {
        "execution": {
          "iopub.execute_input": "2022-01-10T03:43:26.755618Z",
          "iopub.status.busy": "2022-01-10T03:43:26.754933Z",
          "iopub.status.idle": "2022-01-10T03:43:26.761792Z",
          "shell.execute_reply": "2022-01-10T03:43:26.760851Z",
          "shell.execute_reply.started": "2022-01-10T03:43:26.75558Z"
        },
        "id": "-SZi_4t9tnu5"
      },
      "outputs": [],
      "source": [
        "binary_hotel_data = pd.concat([hotel_data, hotel_dummy], axis=1)\n",
        "binary_hotel_data"
      ]
    },
    {
      "cell_type": "code",
      "execution_count": null,
      "metadata": {
        "execution": {
          "iopub.execute_input": "2022-01-10T03:43:26.764056Z",
          "iopub.status.busy": "2022-01-10T03:43:26.763508Z",
          "iopub.status.idle": "2022-01-10T03:43:26.793048Z",
          "shell.execute_reply": "2022-01-10T03:43:26.792465Z",
          "shell.execute_reply.started": "2022-01-10T03:43:26.76402Z"
        },
        "id": "qwcHaFSDtnu5"
      },
      "outputs": [],
      "source": [
        "binary_hotel_data['log_y'] = np.log(binary_hotel_data['y'])\n",
        "binary_hotel_data"
      ]
    },
    {
      "cell_type": "code",
      "execution_count": null,
      "metadata": {
        "execution": {
          "iopub.execute_input": "2022-01-10T03:43:26.794455Z",
          "iopub.status.busy": "2022-01-10T03:43:26.794074Z",
          "iopub.status.idle": "2022-01-10T03:43:26.839968Z",
          "shell.execute_reply": "2022-01-10T03:43:26.83941Z",
          "shell.execute_reply.started": "2022-01-10T03:43:26.794415Z"
        },
        "id": "OHLQDulOtnu6"
      },
      "outputs": [],
      "source": [
        "binary_hotel_model = ols('log_y ~ t+m1+m2+m3+m4+m5+m6+m7+m8+m9+m10+m11', data=binary_hotel_data).fit()\n",
        "binary_hotel_model.summary()"
      ]
    },
    {
      "cell_type": "code",
      "execution_count": null,
      "metadata": {
        "execution": {
          "iopub.execute_input": "2022-01-10T03:43:26.843004Z",
          "iopub.status.busy": "2022-01-10T03:43:26.842273Z",
          "iopub.status.idle": "2022-01-10T03:43:26.849073Z",
          "shell.execute_reply": "2022-01-10T03:43:26.848479Z",
          "shell.execute_reply.started": "2022-01-10T03:43:26.842957Z"
        },
        "id": "QvRvE3oDtnu6"
      },
      "outputs": [],
      "source": [
        "y_169 = binary_hotel_model.params['Intercept'] + 169*binary_hotel_model.params['t'] + binary_hotel_model.params['m1']\n",
        "pred_169 = np.exp(y_169)\n",
        "print(f'[Binary variables] prediction of 169 months is {pred_169:.2f}')"
      ]
    },
    {
      "cell_type": "code",
      "execution_count": null,
      "metadata": {
        "id": "QnsvT_n5tnu6"
      },
      "outputs": [],
      "source": [
        "pred_columns = binary_hotel_data.drop(['y', 'month'], axis=1).columns\n",
        "pred_binary_hotel = binary_hotel_model.predict(binary_hotel_data[pred_columns])\n",
        "pred_binary_hotel = np.exp(pred_binary_hotel)\n",
        "\n",
        "# plotting predicion value and real value\n",
        "fig = plt.figure(figsize=(12,8))\n",
        "plt.scatter(binary_hotel_data['t'], binary_hotel_data['y'], color='royalblue')\n",
        "plt.plot(binary_hotel_data['t'], pred_binary_hotel, color='darkorange')\n",
        "plt.title('Prediction of \"Binary varaible models\" in hotel data', fontsize=12)\n",
        "plt.xlabel('Time', fontsize=12)\n",
        "plt.ylabel('Occupied Hotel rooms', fontsize=12)\n",
        "plt.rc('xtick', labelsize=10)\n",
        "plt.rc('ytick', labelsize=10)\n",
        "plt.show()"
      ]
    },
    {
      "cell_type": "markdown",
      "metadata": {
        "id": "4XPDR0Xetnu7"
      },
      "source": [
        "# Trigonometric Models"
      ]
    },
    {
      "cell_type": "markdown",
      "metadata": {
        "id": "WoklC8gTtnu7"
      },
      "source": [
        "![image.png](attachment:2507a5b8-eb05-4c61-ac92-183242ef5cb1.png)"
      ]
    },
    {
      "cell_type": "code",
      "execution_count": null,
      "metadata": {
        "execution": {
          "iopub.execute_input": "2022-01-10T03:43:26.850966Z",
          "iopub.status.busy": "2022-01-10T03:43:26.850482Z",
          "iopub.status.idle": "2022-01-10T03:43:26.883709Z",
          "shell.execute_reply": "2022-01-10T03:43:26.882827Z",
          "shell.execute_reply.started": "2022-01-10T03:43:26.850935Z"
        },
        "id": "XQNtr1N4tnu7"
      },
      "outputs": [],
      "source": [
        "# make variables in trigonometric model \n",
        "# if standard is month, time_stand=12, if standard is day, time_stand=365 \n",
        "time_stand = 12\n",
        "hotel_data['sintwo'] = np.sin(2*np.pi*hotel_data['t'] / time_stand)\n",
        "hotel_data['costwo'] = np.cos(2*np.pi*hotel_data['t'] / time_stand)\n",
        "hotel_data['sinfour'] = np.sin(4*np.pi*hotel_data['t'] / time_stand)\n",
        "hotel_data['cosfour'] = np.cos(4*np.pi*hotel_data['t'] / time_stand)\n",
        "hotel_data['log_y'] = np.log(hotel_data['y'])\n",
        "\n",
        "hotel_data"
      ]
    },
    {
      "cell_type": "code",
      "execution_count": null,
      "metadata": {
        "execution": {
          "iopub.execute_input": "2022-01-10T03:43:26.885435Z",
          "iopub.status.busy": "2022-01-10T03:43:26.884992Z",
          "iopub.status.idle": "2022-01-10T03:43:26.916967Z",
          "shell.execute_reply": "2022-01-10T03:43:26.91633Z",
          "shell.execute_reply.started": "2022-01-10T03:43:26.885395Z"
        },
        "id": "Dx4yCMaWtnu7"
      },
      "outputs": [],
      "source": [
        "tri_hotel_model_1 = ols('log_y ~ t+sintwo+costwo', data=hotel_data).fit()\n",
        "tri_hotel_model_1.summary()"
      ]
    },
    {
      "cell_type": "code",
      "execution_count": null,
      "metadata": {
        "id": "6rJ7Cdb2tnu8"
      },
      "outputs": [],
      "source": [
        "pred_columns_tri_1 = hotel_data.drop(['y', 'month'], axis=1).columns\n",
        "pred_tri_1_hotel = tri_hotel_model_1.predict(hotel_data[pred_columns_tri_1])\n",
        "pred_tri_1_hotel = np.exp(pred_tri_1_hotel)\n",
        "\n",
        "# plotting predicion value and real value\n",
        "fig = plt.figure(figsize=(12,8))\n",
        "plt.scatter(hotel_data['t'], hotel_data['y'], color='royalblue')\n",
        "plt.plot(hotel_data['t'], pred_tri_1_hotel, color='darkorange')\n",
        "plt.title('Prediction of \"Trigonometric models (1)\" in hotel data', fontsize=12)\n",
        "plt.xlabel('Time', fontsize=12)\n",
        "plt.ylabel('Occupied Hotel rooms', fontsize=12)\n",
        "plt.rc('xtick', labelsize=10)\n",
        "plt.rc('ytick', labelsize=10)\n",
        "plt.show()"
      ]
    },
    {
      "cell_type": "code",
      "execution_count": null,
      "metadata": {
        "execution": {
          "iopub.execute_input": "2022-01-10T03:43:26.918686Z",
          "iopub.status.busy": "2022-01-10T03:43:26.918059Z",
          "iopub.status.idle": "2022-01-10T03:43:26.948978Z",
          "shell.execute_reply": "2022-01-10T03:43:26.94817Z",
          "shell.execute_reply.started": "2022-01-10T03:43:26.91865Z"
        },
        "id": "NoTcuiDAtnu8"
      },
      "outputs": [],
      "source": [
        "tri_hotel_model_2 = ols('log_y ~ t+sintwo+costwo+sinfour+cosfour', data=hotel_data).fit()\n",
        "tri_hotel_model_2.summary()"
      ]
    },
    {
      "cell_type": "code",
      "execution_count": null,
      "metadata": {
        "execution": {
          "iopub.execute_input": "2022-01-10T03:43:26.950236Z",
          "iopub.status.busy": "2022-01-10T03:43:26.949987Z",
          "iopub.status.idle": "2022-01-10T03:43:26.958794Z",
          "shell.execute_reply": "2022-01-10T03:43:26.958104Z",
          "shell.execute_reply.started": "2022-01-10T03:43:26.950207Z"
        },
        "id": "yfo_UbRMtnu8"
      },
      "outputs": [],
      "source": [
        "y_add = np.pi*169 / time_stand\n",
        "y_169_tri = tri_hotel_model_2.params['Intercept'] + 169*tri_hotel_model_2.params['t'] + np.sin(2*y_add)*tri_hotel_model_2.params['sintwo'] + np.cos(2*y_add)*tri_hotel_model_2.params['costwo'] + np.sin(4*y_add)*tri_hotel_model_2.params['sinfour'] +np.cos(4*y_add)*tri_hotel_model_2.params['cosfour']\n",
        "pred_169_tri = np.exp(y_169_tri)\n",
        "print(f'[Trigonometric] prediction of 169 months is {pred_169_tri:.2f}')"
      ]
    },
    {
      "cell_type": "code",
      "execution_count": null,
      "metadata": {
        "id": "jL9ExOJctnu8"
      },
      "outputs": [],
      "source": [
        "pred_columns_tri_2 = hotel_data.drop(['y', 'month'], axis=1).columns\n",
        "pred_tri_2_hotel = tri_hotel_model_2.predict(hotel_data[pred_columns_tri_2])\n",
        "pred_tri_2_hotel = np.exp(pred_tri_2_hotel)\n",
        "\n",
        "# plotting predicion value and real value\n",
        "fig = plt.figure(figsize=(12,8))\n",
        "plt.scatter(hotel_data['t'], hotel_data['y'], color='royalblue')\n",
        "plt.plot(hotel_data['t'], pred_tri_2_hotel, color='darkorange')\n",
        "plt.title('Prediction of \"Trigonometric models (2)\" in hotel data', fontsize=12)\n",
        "plt.xlabel('Time', fontsize=12)\n",
        "plt.ylabel('Occupied Hotel rooms', fontsize=12)\n",
        "plt.rc('xtick', labelsize=10)\n",
        "plt.rc('ytick', labelsize=10)\n",
        "plt.show()"
      ]
    },
    {
      "cell_type": "code",
      "execution_count": null,
      "metadata": {
        "id": "S2UlC66Gtnu8"
      },
      "outputs": [],
      "source": [
        "# plotting predicion value and real value about \n",
        "fig = plt.figure(figsize=(12,8))\n",
        "plt.scatter(hotel_data['t'], hotel_data['y'], color='royalblue')\n",
        "plt.plot(hotel_data['t'], pred_tri_1_hotel, color='crimson')\n",
        "plt.plot(hotel_data['t'], pred_tri_2_hotel, color='darkorange')\n",
        "plt.plot(binary_hotel_data['t'], pred_binary_hotel, color='g')\n",
        "plt.title('Prediction of various models in hotel data', fontsize=12)\n",
        "plt.xlabel('Time', fontsize=12)\n",
        "plt.ylabel('Occupied Hotel rooms', fontsize=12)\n",
        "plt.rc('xtick', labelsize=10)\n",
        "plt.rc('ytick', labelsize=10)\n",
        "plt.show()"
      ]
    },
    {
      "cell_type": "code",
      "execution_count": null,
      "metadata": {
        "id": "Kw72NAsDtnu9"
      },
      "outputs": [],
      "source": [
        "def MAD(y_true, y_pred):\n",
        "    return np.mean(np.abs(y_true - y_pred))\n",
        "\n",
        "def MSE(y_true, y_pred):\n",
        "    return np.mean(np.square(y_true - y_pred))"
      ]
    },
    {
      "cell_type": "code",
      "execution_count": null,
      "metadata": {
        "id": "TLlwWkVitnu9"
      },
      "outputs": [],
      "source": [
        "# caluate a MAD(MAE)\n",
        "mad_bin = MAD(hotel_data['y'], pred_binary_hotel )\n",
        "print(f'MAD of binary variables models = {mad_bin:.2f}')\n",
        "mad_tri_1 = MAD(hotel_data['y'], pred_tri_1_hotel)\n",
        "print(f'MAD of trigonometric models (1) = {mad_tri_1:.2f}')\n",
        "mad_tri_2 = MAD(hotel_data['y'], pred_tri_2_hotel)\n",
        "print(f'MAD of trigonometric models (2)  = {mad_tri_2:.2f}')"
      ]
    },
    {
      "cell_type": "code",
      "execution_count": null,
      "metadata": {
        "id": "szAd9FGStnu9"
      },
      "outputs": [],
      "source": [
        "# caluate a MAD(MAE)\n",
        "mse_bin = MSE(hotel_data['y'], pred_binary_hotel )\n",
        "print(f'MSE of binary variables models = {mse_bin:.2f}')\n",
        "mse_tri_1 = MSE(hotel_data['y'], pred_tri_1_hotel)\n",
        "print(f'MSE of trigonometric models (1) = {mse_tri_1:.2f}')\n",
        "mse_tri_2 = MSE(hotel_data['y'], pred_tri_2_hotel)\n",
        "print(f'MSE of trigonometric models (2)  = {mse_tri_2:.2f}')"
      ]
    },
    {
      "cell_type": "markdown",
      "metadata": {
        "id": "EZelaGPntnu9"
      },
      "source": [
        "# Growth Curve Models"
      ]
    },
    {
      "cell_type": "markdown",
      "metadata": {
        "id": "Ux8uTCzWtnu9"
      },
      "source": [
        "![image.png](attachment:image.png)"
      ]
    },
    {
      "cell_type": "code",
      "execution_count": null,
      "metadata": {
        "id": "nkmUqP3_tnu9"
      },
      "outputs": [],
      "source": [
        "steak_data = pd.read_csv('https://raw.githubusercontent.com/Sangmann/lg/main/example-steakhouses.csv')\n",
        "steak_data.head(5)"
      ]
    },
    {
      "cell_type": "code",
      "execution_count": null,
      "metadata": {
        "id": "U8qpwzPRtnu-"
      },
      "outputs": [],
      "source": [
        "steak_data['log_y'] = np.log(steak_data['y'])\n",
        "steak_data.head(5)"
      ]
    },
    {
      "cell_type": "code",
      "execution_count": null,
      "metadata": {
        "id": "qBK1kHK-tnu-"
      },
      "outputs": [],
      "source": [
        "steak_model = ols('log_y ~ t', data=steak_data).fit()\n",
        "steak_model.summary()"
      ]
    },
    {
      "cell_type": "code",
      "execution_count": null,
      "metadata": {
        "id": "jB7rOEFitnu-"
      },
      "outputs": [],
      "source": [
        "log_y_16_pred = steak_model.params['Intercept'] + 16*steak_model.params['t']\n",
        "print(f'prediction of log_y = {log_y_16_pred:.2f}')\n",
        "pred_y_16 = np.exp(log_y_16_pred)\n",
        "print(f'prediction of y = {pred_y_16:.2f}')"
      ]
    },
    {
      "cell_type": "code",
      "execution_count": null,
      "metadata": {
        "id": "eS48ZjP8tnu-"
      },
      "outputs": [],
      "source": [
        "pred_steak = steak_model.predict(steak_data['t'])\n",
        "pred_steak = np.exp(pred_steak)\n",
        "\n",
        "# plotting predicion value and real value\n",
        "fig = plt.figure(figsize=(12,8))\n",
        "plt.scatter(steak_data['t'], steak_data['y'], color='royalblue')\n",
        "plt.plot(steak_data['t'], pred_steak, color='darkorange')\n",
        "plt.title('Prediction of \"Growth Curve Models\" in steak data', fontsize=12)\n",
        "plt.xlabel('Time', fontsize=12)\n",
        "plt.ylabel('Western staek house', fontsize=12)\n",
        "plt.rc('xtick', labelsize=10)\n",
        "plt.rc('ytick', labelsize=10)\n",
        "plt.show()"
      ]
    }
  ],
  "metadata": {
    "colab": {
      "name": "time-series1-3.ipynb",
      "provenance": []
    },
    "kernelspec": {
      "display_name": "Python 3 (ipykernel)",
      "language": "python",
      "name": "python3"
    },
    "language_info": {
      "codemirror_mode": {
        "name": "ipython",
        "version": 3
      },
      "file_extension": ".py",
      "mimetype": "text/x-python",
      "name": "python",
      "nbconvert_exporter": "python",
      "pygments_lexer": "ipython3",
      "version": "3.8.12"
    }
  },
  "nbformat": 4,
  "nbformat_minor": 0
}