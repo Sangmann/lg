{
 "cells": [
  {
   "cell_type": "markdown",
   "metadata": {
    "id": "ieG6jYR5tnuy"
   },
   "source": [
    "# Binary Variable Models"
   ]
  },
  {
   "cell_type": "markdown",
   "metadata": {
    "id": "W28syg49tnu1"
   },
   "source": [
    "![image.png](attachment:1d5f89ec-f63e-4d2b-813a-7f417529774b.png)"
   ]
  },
  {
   "cell_type": "code",
   "execution_count": null,
   "metadata": {
    "colab": {
     "base_uri": "https://localhost:8080/"
    },
    "id": "Vly_JKMLttbA",
    "outputId": "2da30ab4-511d-45c9-f69d-7d27100604fe"
   },
   "outputs": [],
   "source": [
    "pip install statsmodels"
   ]
  },
  {
   "cell_type": "code",
   "execution_count": null,
   "metadata": {
    "execution": {
     "iopub.execute_input": "2022-01-10T03:43:25.756085Z",
     "iopub.status.busy": "2022-01-10T03:43:25.75567Z",
     "iopub.status.idle": "2022-01-10T03:43:26.381844Z",
     "shell.execute_reply": "2022-01-10T03:43:26.381204Z",
     "shell.execute_reply.started": "2022-01-10T03:43:25.756052Z"
    },
    "id": "4eQuYoJ6tnu1"
   },
   "outputs": [],
   "source": [
    "import numpy as np\n",
    "import pandas as pd\n",
    "import matplotlib.pyplot as plt\n",
    "from statsmodels.formula.api import ols\n",
    "import seaborn as sns\n",
    "import os\n",
    "import io"
   ]
  },
  {
   "cell_type": "code",
   "execution_count": null,
   "metadata": {
    "colab": {
     "base_uri": "https://localhost:8080/",
     "height": 362,
     "resources": {
      "http://localhost:8080/nbextensions/google.colab/files.js": {
       "data": "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",
       "headers": [
        [
         "content-type",
         "application/javascript"
        ]
       ],
       "ok": true,
       "status": 200,
       "status_text": ""
      }
     }
    },
    "id": "2R2ZwTo7tsKd",
    "outputId": "e840e39c-32b9-4fc8-a923-0ae69dfcbdce"
   },
   "outputs": [],
   "source": [
    "from google.colab import files\n",
    "myfile = files.upload()"
   ]
  },
  {
   "cell_type": "code",
   "execution_count": null,
   "metadata": {
    "execution": {
     "iopub.execute_input": "2022-01-10T03:43:26.383408Z",
     "iopub.status.busy": "2022-01-10T03:43:26.383002Z",
     "iopub.status.idle": "2022-01-10T03:43:26.393927Z",
     "shell.execute_reply": "2022-01-10T03:43:26.393296Z",
     "shell.execute_reply.started": "2022-01-10T03:43:26.38336Z"
    },
    "id": "BPVwr1FWtnu2"
   },
   "outputs": [],
   "source": [
    "hotel_data = pd.read_csv(io.BytesIO(myfile['example-hotel-rooms.csv']))"
   ]
  },
  {
   "cell_type": "code",
   "execution_count": null,
   "metadata": {
    "colab": {
     "base_uri": "https://localhost:8080/",
     "height": 363
    },
    "execution": {
     "iopub.execute_input": "2022-01-10T03:43:26.396671Z",
     "iopub.status.busy": "2022-01-10T03:43:26.396358Z",
     "iopub.status.idle": "2022-01-10T03:43:26.411649Z",
     "shell.execute_reply": "2022-01-10T03:43:26.41061Z",
     "shell.execute_reply.started": "2022-01-10T03:43:26.396639Z"
    },
    "id": "Ozx6IKNHtnu3",
    "outputId": "37bf7376-873d-461b-946c-59357d193b9a"
   },
   "outputs": [],
   "source": [
    "hotel_data.head(10)"
   ]
  },
  {
   "cell_type": "code",
   "execution_count": null,
   "metadata": {
    "colab": {
     "base_uri": "https://localhost:8080/"
    },
    "execution": {
     "iopub.execute_input": "2022-01-10T03:43:26.413058Z",
     "iopub.status.busy": "2022-01-10T03:43:26.412836Z",
     "iopub.status.idle": "2022-01-10T03:43:26.42306Z",
     "shell.execute_reply": "2022-01-10T03:43:26.422211Z",
     "shell.execute_reply.started": "2022-01-10T03:43:26.41303Z"
    },
    "id": "yk2eXyu0tnu3",
    "outputId": "e93aebff-1808-42a3-9da9-bbecdb4e17a6"
   },
   "outputs": [],
   "source": [
    "hotel_data.shape"
   ]
  },
  {
   "cell_type": "code",
   "execution_count": null,
   "metadata": {
    "colab": {
     "base_uri": "https://localhost:8080/",
     "height": 516
    },
    "execution": {
     "iopub.execute_input": "2022-01-10T03:43:26.425124Z",
     "iopub.status.busy": "2022-01-10T03:43:26.4246Z",
     "iopub.status.idle": "2022-01-10T03:43:26.703766Z",
     "shell.execute_reply": "2022-01-10T03:43:26.7031Z",
     "shell.execute_reply.started": "2022-01-10T03:43:26.425076Z"
    },
    "id": "gtTv8ffQtnu3",
    "outputId": "91e2fc62-961b-49cb-f9a0-eccc4308d3be"
   },
   "outputs": [],
   "source": [
    "fig = plt.figure(figsize=(12,8))\n",
    "plt.plot(hotel_data['y'], marker='o')\n",
    "plt.title('Hotel rooms occupied for 14 years', fontsize=12)\n",
    "plt.xlabel('Month', fontsize=12)\n",
    "plt.ylabel('Occupied', fontsize=12)\n",
    "\n",
    "plt.show()"
   ]
  },
  {
   "cell_type": "code",
   "execution_count": null,
   "metadata": {
    "colab": {
     "base_uri": "https://localhost:8080/"
    },
    "execution": {
     "iopub.execute_input": "2022-01-10T03:43:26.705266Z",
     "iopub.status.busy": "2022-01-10T03:43:26.704905Z",
     "iopub.status.idle": "2022-01-10T03:43:26.710036Z",
     "shell.execute_reply": "2022-01-10T03:43:26.709453Z",
     "shell.execute_reply.started": "2022-01-10T03:43:26.705229Z"
    },
    "id": "_HLrnFuNtnu4",
    "outputId": "23417810-46df-4bd9-9df2-4abb0040575c"
   },
   "outputs": [],
   "source": [
    "hotel_data['month'] = hotel_data['t'] % 12\n",
    "hotel_data['month'].tail(20)"
   ]
  },
  {
   "cell_type": "code",
   "execution_count": null,
   "metadata": {
    "colab": {
     "base_uri": "https://localhost:8080/",
     "height": 424
    },
    "execution": {
     "iopub.execute_input": "2022-01-10T03:43:26.727329Z",
     "iopub.status.busy": "2022-01-10T03:43:26.726537Z",
     "iopub.status.idle": "2022-01-10T03:43:26.753779Z",
     "shell.execute_reply": "2022-01-10T03:43:26.75311Z",
     "shell.execute_reply.started": "2022-01-10T03:43:26.727296Z"
    },
    "id": "pnXHFWQWtnu4",
    "outputId": "29c7c947-8775-4224-9a09-f817374d95ba"
   },
   "outputs": [],
   "source": [
    "hotel_dummy = pd.get_dummies(hotel_data['month'], drop_first=True)\n",
    "hotel_dummy.rename(columns = lambda x: \"m\" + str(x), inplace=True)\n",
    "hotel_dummy"
   ]
  },
  {
   "cell_type": "code",
   "execution_count": null,
   "metadata": {
    "colab": {
     "base_uri": "https://localhost:8080/",
     "height": 424
    },
    "execution": {
     "iopub.execute_input": "2022-01-10T03:43:26.755618Z",
     "iopub.status.busy": "2022-01-10T03:43:26.754933Z",
     "iopub.status.idle": "2022-01-10T03:43:26.761792Z",
     "shell.execute_reply": "2022-01-10T03:43:26.760851Z",
     "shell.execute_reply.started": "2022-01-10T03:43:26.75558Z"
    },
    "id": "-SZi_4t9tnu5",
    "outputId": "7c49f79c-2669-4bef-9db5-b68687eb1e7b"
   },
   "outputs": [],
   "source": [
    "binary_hotel_data = pd.concat([hotel_data, hotel_dummy], axis=1)\n",
    "binary_hotel_data"
   ]
  },
  {
   "cell_type": "code",
   "execution_count": null,
   "metadata": {
    "colab": {
     "base_uri": "https://localhost:8080/",
     "height": 424
    },
    "execution": {
     "iopub.execute_input": "2022-01-10T03:43:26.764056Z",
     "iopub.status.busy": "2022-01-10T03:43:26.763508Z",
     "iopub.status.idle": "2022-01-10T03:43:26.793048Z",
     "shell.execute_reply": "2022-01-10T03:43:26.792465Z",
     "shell.execute_reply.started": "2022-01-10T03:43:26.76402Z"
    },
    "id": "qwcHaFSDtnu5",
    "outputId": "8f34ff0b-f0b4-4469-d6f9-0c3b7ee5883a"
   },
   "outputs": [],
   "source": [
    "binary_hotel_data['log_y'] = np.log(binary_hotel_data['y'])\n",
    "binary_hotel_data"
   ]
  },
  {
   "cell_type": "code",
   "execution_count": null,
   "metadata": {
    "colab": {
     "base_uri": "https://localhost:8080/",
     "height": 721
    },
    "execution": {
     "iopub.execute_input": "2022-01-10T03:43:26.794455Z",
     "iopub.status.busy": "2022-01-10T03:43:26.794074Z",
     "iopub.status.idle": "2022-01-10T03:43:26.839968Z",
     "shell.execute_reply": "2022-01-10T03:43:26.83941Z",
     "shell.execute_reply.started": "2022-01-10T03:43:26.794415Z"
    },
    "id": "OHLQDulOtnu6",
    "outputId": "0dcab356-85e0-4f5e-e153-236ef6a9a909"
   },
   "outputs": [],
   "source": [
    "binary_hotel_model = ols('log_y ~ t+m1+m2+m3+m4+m5+m6+m7+m8+m9+m10+m11', data=binary_hotel_data).fit()\n",
    "binary_hotel_model.summary()"
   ]
  },
  {
   "cell_type": "code",
   "execution_count": null,
   "metadata": {
    "colab": {
     "base_uri": "https://localhost:8080/"
    },
    "execution": {
     "iopub.execute_input": "2022-01-10T03:43:26.843004Z",
     "iopub.status.busy": "2022-01-10T03:43:26.842273Z",
     "iopub.status.idle": "2022-01-10T03:43:26.849073Z",
     "shell.execute_reply": "2022-01-10T03:43:26.848479Z",
     "shell.execute_reply.started": "2022-01-10T03:43:26.842957Z"
    },
    "id": "QvRvE3oDtnu6",
    "outputId": "43ebf267-a8e0-4ad7-c208-c71f2f3f5657"
   },
   "outputs": [],
   "source": [
    "y_169 = binary_hotel_model.params['Intercept'] + 169*binary_hotel_model.params['t'] + binary_hotel_model.params['m1']\n",
    "pred_169 = np.exp(y_169)\n",
    "print(f'[Binary variables] prediction of 169 months is {pred_169:.2f}')"
   ]
  },
  {
   "cell_type": "code",
   "execution_count": null,
   "metadata": {
    "colab": {
     "base_uri": "https://localhost:8080/",
     "height": 516
    },
    "id": "QnsvT_n5tnu6",
    "outputId": "751d8ee8-797d-45ec-a529-da06a121836d"
   },
   "outputs": [],
   "source": [
    "pred_columns = binary_hotel_data.drop(['y', 'month'], axis=1).columns\n",
    "pred_binary_hotel = binary_hotel_model.predict(binary_hotel_data[pred_columns])\n",
    "pred_binary_hotel = np.exp(pred_binary_hotel)\n",
    "\n",
    "# plotting predicion value and real value\n",
    "fig = plt.figure(figsize=(12,8))\n",
    "plt.scatter(binary_hotel_data['t'], binary_hotel_data['y'], color='royalblue')\n",
    "plt.plot(binary_hotel_data['t'], pred_binary_hotel, color='darkorange')\n",
    "plt.title('Prediction of \"Binary varaible models\" in hotel data', fontsize=12)\n",
    "plt.xlabel('Time', fontsize=12)\n",
    "plt.ylabel('Occupied Hotel rooms', fontsize=12)\n",
    "plt.rc('xtick', labelsize=10)\n",
    "plt.rc('ytick', labelsize=10)\n",
    "plt.show()"
   ]
  },
  {
   "cell_type": "markdown",
   "metadata": {
    "id": "4XPDR0Xetnu7"
   },
   "source": [
    "# Trigonometric Models"
   ]
  },
  {
   "cell_type": "markdown",
   "metadata": {
    "id": "WoklC8gTtnu7"
   },
   "source": [
    "![image.png](attachment:2507a5b8-eb05-4c61-ac92-183242ef5cb1.png)"
   ]
  },
  {
   "cell_type": "code",
   "execution_count": null,
   "metadata": {
    "colab": {
     "base_uri": "https://localhost:8080/",
     "height": 424
    },
    "execution": {
     "iopub.execute_input": "2022-01-10T03:43:26.850966Z",
     "iopub.status.busy": "2022-01-10T03:43:26.850482Z",
     "iopub.status.idle": "2022-01-10T03:43:26.883709Z",
     "shell.execute_reply": "2022-01-10T03:43:26.882827Z",
     "shell.execute_reply.started": "2022-01-10T03:43:26.850935Z"
    },
    "id": "XQNtr1N4tnu7",
    "outputId": "b56c1fe0-c938-4afa-9cdd-e7794fa524d2"
   },
   "outputs": [],
   "source": [
    "# make variables in trigonometric model \n",
    "# if standard is month, time_stand=12, if standard is day, time_stand=365 \n",
    "time_stand = 12\n",
    "hotel_data['sintwo'] = np.sin(2*np.pi*hotel_data['t'] / time_stand)\n",
    "hotel_data['costwo'] = np.cos(2*np.pi*hotel_data['t'] / time_stand)\n",
    "hotel_data['sinfour'] = np.sin(4*np.pi*hotel_data['t'] / time_stand)\n",
    "hotel_data['cosfour'] = np.cos(4*np.pi*hotel_data['t'] / time_stand)\n",
    "hotel_data['log_y'] = np.log(hotel_data['y'])\n",
    "\n",
    "hotel_data"
   ]
  },
  {
   "cell_type": "code",
   "execution_count": null,
   "metadata": {
    "colab": {
     "base_uri": "https://localhost:8080/",
     "height": 494
    },
    "execution": {
     "iopub.execute_input": "2022-01-10T03:43:26.885435Z",
     "iopub.status.busy": "2022-01-10T03:43:26.884992Z",
     "iopub.status.idle": "2022-01-10T03:43:26.916967Z",
     "shell.execute_reply": "2022-01-10T03:43:26.91633Z",
     "shell.execute_reply.started": "2022-01-10T03:43:26.885395Z"
    },
    "id": "Dx4yCMaWtnu7",
    "outputId": "45c72340-4c55-4ff4-87db-df4d02edd88d"
   },
   "outputs": [],
   "source": [
    "tri_hotel_model_1 = ols('log_y ~ t+sintwo+costwo', data=hotel_data).fit()\n",
    "tri_hotel_model_1.summary()"
   ]
  },
  {
   "cell_type": "code",
   "execution_count": null,
   "metadata": {
    "colab": {
     "base_uri": "https://localhost:8080/",
     "height": 516
    },
    "id": "6rJ7Cdb2tnu8",
    "outputId": "251462f1-f607-4f46-e119-0899bb3ad1fa"
   },
   "outputs": [],
   "source": [
    "pred_columns_tri_1 = hotel_data.drop(['y', 'month'], axis=1).columns\n",
    "pred_tri_1_hotel = tri_hotel_model_1.predict(hotel_data[pred_columns_tri_1])\n",
    "pred_tri_1_hotel = np.exp(pred_tri_1_hotel)\n",
    "\n",
    "# plotting predicion value and real value\n",
    "fig = plt.figure(figsize=(12,8))\n",
    "plt.scatter(hotel_data['t'], hotel_data['y'], color='royalblue')\n",
    "plt.plot(hotel_data['t'], pred_tri_1_hotel, color='darkorange')\n",
    "plt.title('Prediction of \"Trigonometric models (1)\" in hotel data', fontsize=12)\n",
    "plt.xlabel('Time', fontsize=12)\n",
    "plt.ylabel('Occupied Hotel rooms', fontsize=12)\n",
    "plt.rc('xtick', labelsize=10)\n",
    "plt.rc('ytick', labelsize=10)\n",
    "plt.show()"
   ]
  },
  {
   "cell_type": "code",
   "execution_count": null,
   "metadata": {
    "colab": {
     "base_uri": "https://localhost:8080/",
     "height": 537
    },
    "execution": {
     "iopub.execute_input": "2022-01-10T03:43:26.918686Z",
     "iopub.status.busy": "2022-01-10T03:43:26.918059Z",
     "iopub.status.idle": "2022-01-10T03:43:26.948978Z",
     "shell.execute_reply": "2022-01-10T03:43:26.94817Z",
     "shell.execute_reply.started": "2022-01-10T03:43:26.91865Z"
    },
    "id": "NoTcuiDAtnu8",
    "outputId": "db34e7dc-b1a7-4e78-8384-78214de7ac90"
   },
   "outputs": [],
   "source": [
    "tri_hotel_model_2 = ols('log_y ~ t+sintwo+costwo+sinfour+cosfour', data=hotel_data).fit()\n",
    "tri_hotel_model_2.summary()"
   ]
  },
  {
   "cell_type": "code",
   "execution_count": null,
   "metadata": {
    "colab": {
     "base_uri": "https://localhost:8080/"
    },
    "execution": {
     "iopub.execute_input": "2022-01-10T03:43:26.950236Z",
     "iopub.status.busy": "2022-01-10T03:43:26.949987Z",
     "iopub.status.idle": "2022-01-10T03:43:26.958794Z",
     "shell.execute_reply": "2022-01-10T03:43:26.958104Z",
     "shell.execute_reply.started": "2022-01-10T03:43:26.950207Z"
    },
    "id": "yfo_UbRMtnu8",
    "outputId": "11c1e721-daa4-4b23-cbdc-10921c509ed3"
   },
   "outputs": [],
   "source": [
    "y_add = np.pi*169 / time_stand\n",
    "y_169_tri = tri_hotel_model_2.params['Intercept'] + 169*tri_hotel_model_2.params['t'] + np.sin(2*y_add)*tri_hotel_model_2.params['sintwo'] + np.cos(2*y_add)*tri_hotel_model_2.params['costwo'] + np.sin(4*y_add)*tri_hotel_model_2.params['sinfour'] +np.cos(4*y_add)*tri_hotel_model_2.params['cosfour']\n",
    "pred_169_tri = np.exp(y_169_tri)\n",
    "print(f'[Trigonometric] prediction of 169 months is {pred_169_tri:.2f}')"
   ]
  },
  {
   "cell_type": "code",
   "execution_count": null,
   "metadata": {
    "colab": {
     "base_uri": "https://localhost:8080/",
     "height": 516
    },
    "id": "jL9ExOJctnu8",
    "outputId": "f1a592da-6844-4172-cab7-db291344417d"
   },
   "outputs": [],
   "source": [
    "pred_columns_tri_2 = hotel_data.drop(['y', 'month'], axis=1).columns\n",
    "pred_tri_2_hotel = tri_hotel_model_2.predict(hotel_data[pred_columns_tri_2])\n",
    "pred_tri_2_hotel = np.exp(pred_tri_2_hotel)\n",
    "\n",
    "# plotting predicion value and real value\n",
    "fig = plt.figure(figsize=(12,8))\n",
    "plt.scatter(hotel_data['t'], hotel_data['y'], color='royalblue')\n",
    "plt.plot(hotel_data['t'], pred_tri_2_hotel, color='darkorange')\n",
    "plt.title('Prediction of \"Trigonometric models (2)\" in hotel data', fontsize=12)\n",
    "plt.xlabel('Time', fontsize=12)\n",
    "plt.ylabel('Occupied Hotel rooms', fontsize=12)\n",
    "plt.rc('xtick', labelsize=10)\n",
    "plt.rc('ytick', labelsize=10)\n",
    "plt.show()"
   ]
  },
  {
   "cell_type": "code",
   "execution_count": null,
   "metadata": {
    "colab": {
     "base_uri": "https://localhost:8080/",
     "height": 516
    },
    "id": "S2UlC66Gtnu8",
    "outputId": "a3b0e766-08d8-4863-f04b-1d292ba3ac5a"
   },
   "outputs": [],
   "source": [
    "# plotting predicion value and real value about \n",
    "fig = plt.figure(figsize=(12,8))\n",
    "plt.scatter(hotel_data['t'], hotel_data['y'], color='royalblue')\n",
    "plt.plot(hotel_data['t'], pred_tri_1_hotel, color='crimson')\n",
    "plt.plot(hotel_data['t'], pred_tri_2_hotel, color='darkorange')\n",
    "plt.plot(binary_hotel_data['t'], pred_binary_hotel, color='g')\n",
    "plt.title('Prediction of various models in hotel data', fontsize=12)\n",
    "plt.xlabel('Time', fontsize=12)\n",
    "plt.ylabel('Occupied Hotel rooms', fontsize=12)\n",
    "plt.rc('xtick', labelsize=10)\n",
    "plt.rc('ytick', labelsize=10)\n",
    "plt.show()"
   ]
  },
  {
   "cell_type": "code",
   "execution_count": null,
   "metadata": {
    "id": "Kw72NAsDtnu9"
   },
   "outputs": [],
   "source": [
    "def MAD(y_true, y_pred):\n",
    "    return np.mean(np.abs(y_true - y_pred))\n",
    "\n",
    "def MSE(y_true, y_pred):\n",
    "    return np.mean(np.square(y_true - y_pred))"
   ]
  },
  {
   "cell_type": "code",
   "execution_count": null,
   "metadata": {
    "colab": {
     "base_uri": "https://localhost:8080/"
    },
    "id": "TLlwWkVitnu9",
    "outputId": "89722c29-9c16-4133-d045-76ce04001847"
   },
   "outputs": [],
   "source": [
    "# caluate a MAD(MAE)\n",
    "mad_bin = MAD(hotel_data['y'], pred_binary_hotel )\n",
    "print(f'MAD of binary variables models = {mad_bin:.2f}')\n",
    "mad_tri_1 = MAD(hotel_data['y'], pred_tri_1_hotel)\n",
    "print(f'MAD of trigonometric models (1) = {mad_tri_1:.2f}')\n",
    "mad_tri_2 = MAD(hotel_data['y'], pred_tri_2_hotel)\n",
    "print(f'MAD of trigonometric models (2)  = {mad_tri_2:.2f}')"
   ]
  },
  {
   "cell_type": "code",
   "execution_count": null,
   "metadata": {
    "colab": {
     "base_uri": "https://localhost:8080/"
    },
    "id": "szAd9FGStnu9",
    "outputId": "24ebbc69-95d7-47c6-a7f4-db54f5ffa6a9"
   },
   "outputs": [],
   "source": [
    "# caluate a MAD(MAE)\n",
    "mse_bin = MSE(hotel_data['y'], pred_binary_hotel )\n",
    "print(f'MSE of binary variables models = {mse_bin:.2f}')\n",
    "mse_tri_1 = MSE(hotel_data['y'], pred_tri_1_hotel)\n",
    "print(f'MSE of trigonometric models (1) = {mse_tri_1:.2f}')\n",
    "mse_tri_2 = MSE(hotel_data['y'], pred_tri_2_hotel)\n",
    "print(f'MSE of trigonometric models (2)  = {mse_tri_2:.2f}')"
   ]
  },
  {
   "cell_type": "markdown",
   "metadata": {
    "id": "EZelaGPntnu9"
   },
   "source": [
    "# Growth Curve Models"
   ]
  },
  {
   "cell_type": "markdown",
   "metadata": {
    "id": "Ux8uTCzWtnu9"
   },
   "source": [
    "![image.png](attachment:image.png)"
   ]
  },
  {
   "cell_type": "code",
   "execution_count": null,
   "metadata": {
    "colab": {
     "base_uri": "https://localhost:8080/",
     "height": 206
    },
    "id": "nkmUqP3_tnu9",
    "outputId": "4821c341-f0f8-42a4-d40d-4bec5eaad6f6"
   },
   "outputs": [],
   "source": [
    "steak_data = pd.read_csv(io.BytesIO(myfile['example-steakhouses.csv']))\n",
    "steak_data.head(5)"
   ]
  },
  {
   "cell_type": "code",
   "execution_count": null,
   "metadata": {
    "colab": {
     "base_uri": "https://localhost:8080/",
     "height": 206
    },
    "id": "U8qpwzPRtnu-",
    "outputId": "e9e97dfa-dd21-4d90-89ac-911031db0720"
   },
   "outputs": [],
   "source": [
    "steak_data['log_y'] = np.log(steak_data['y'])\n",
    "steak_data.head(5)"
   ]
  },
  {
   "cell_type": "code",
   "execution_count": null,
   "metadata": {
    "colab": {
     "base_uri": "https://localhost:8080/",
     "height": 488
    },
    "id": "qBK1kHK-tnu-",
    "outputId": "e497d45f-10ac-48bd-adf1-d785e0be30f9"
   },
   "outputs": [],
   "source": [
    "steak_model = ols('log_y ~ t', data=steak_data).fit()\n",
    "steak_model.summary()"
   ]
  },
  {
   "cell_type": "code",
   "execution_count": null,
   "metadata": {
    "colab": {
     "base_uri": "https://localhost:8080/"
    },
    "id": "jB7rOEFitnu-",
    "outputId": "ee554009-8438-4af3-aa7d-e7549e1b50a5"
   },
   "outputs": [],
   "source": [
    "log_y_16_pred = steak_model.params['Intercept'] + 16*steak_model.params['t']\n",
    "print(f'prediction of log_y = {log_y_16_pred:.2f}')\n",
    "pred_y_16 = np.exp(log_y_16_pred)\n",
    "print(f'prediction of y = {pred_y_16:.2f}')"
   ]
  },
  {
   "cell_type": "code",
   "execution_count": null,
   "metadata": {
    "colab": {
     "base_uri": "https://localhost:8080/",
     "height": 516
    },
    "id": "eS48ZjP8tnu-",
    "outputId": "7d08b2e6-69ac-42fc-e6f2-cc6cb6237112"
   },
   "outputs": [],
   "source": [
    "pred_steak = steak_model.predict(steak_data['t'])\n",
    "pred_steak = np.exp(pred_steak)\n",
    "\n",
    "# plotting predicion value and real value\n",
    "fig = plt.figure(figsize=(12,8))\n",
    "plt.scatter(steak_data['t'], steak_data['y'], color='royalblue')\n",
    "plt.plot(steak_data['t'], pred_steak, color='darkorange')\n",
    "plt.title('Prediction of \"Growth Curve Models\" in steak data', fontsize=12)\n",
    "plt.xlabel('Time', fontsize=12)\n",
    "plt.ylabel('Western staek house', fontsize=12)\n",
    "plt.rc('xtick', labelsize=10)\n",
    "plt.rc('ytick', labelsize=10)\n",
    "plt.show()"
   ]
  }
 ],
 "metadata": {
  "colab": {
   "name": "time-series1-3.ipynb",
   "provenance": []
  },
  "kernelspec": {
   "display_name": "Python 3 (ipykernel)",
   "language": "python",
   "name": "python3"
  },
  "language_info": {
   "codemirror_mode": {
    "name": "ipython",
    "version": 3
   },
   "file_extension": ".py",
   "mimetype": "text/x-python",
   "name": "python",
   "nbconvert_exporter": "python",
   "pygments_lexer": "ipython3",
   "version": "3.8.12"
  }
 },
 "nbformat": 4,
 "nbformat_minor": 1
}
